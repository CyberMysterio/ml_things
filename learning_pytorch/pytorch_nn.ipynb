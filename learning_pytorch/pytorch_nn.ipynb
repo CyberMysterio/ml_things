{
  "nbformat": 4,
  "nbformat_minor": 0,
  "metadata": {
    "colab": {
      "name": "pytorch_nn.ipynb",
      "provenance": [],
      "collapsed_sections": [],
      "toc_visible": true,
      "include_colab_link": true
    },
    "kernelspec": {
      "name": "python3",
      "display_name": "Python 3"
    },
    "accelerator": "GPU",
    "widgets": {
      "application/vnd.jupyter.widget-state+json": {
        "021147b8b94a46f4a2c7fac01de839a1": {
          "model_module": "@jupyter-widgets/controls",
          "model_name": "HBoxModel",
          "state": {
            "_view_name": "HBoxView",
            "_dom_classes": [],
            "_model_name": "HBoxModel",
            "_view_module": "@jupyter-widgets/controls",
            "_model_module_version": "1.5.0",
            "_view_count": null,
            "_view_module_version": "1.5.0",
            "box_style": "",
            "layout": "IPY_MODEL_926f6433b7ae41d7a1c6248e0d9e013d",
            "_model_module": "@jupyter-widgets/controls",
            "children": [
              "IPY_MODEL_73d91adb0efd4c0691636e0221519f45",
              "IPY_MODEL_0eb50870c18641879d13879fd0f2a7d8"
            ]
          }
        },
        "926f6433b7ae41d7a1c6248e0d9e013d": {
          "model_module": "@jupyter-widgets/base",
          "model_name": "LayoutModel",
          "state": {
            "_view_name": "LayoutView",
            "grid_template_rows": null,
            "right": null,
            "justify_content": null,
            "_view_module": "@jupyter-widgets/base",
            "overflow": null,
            "_model_module_version": "1.2.0",
            "_view_count": null,
            "flex_flow": null,
            "width": null,
            "min_width": null,
            "border": null,
            "align_items": null,
            "bottom": null,
            "_model_module": "@jupyter-widgets/base",
            "top": null,
            "grid_column": null,
            "overflow_y": null,
            "overflow_x": null,
            "grid_auto_flow": null,
            "grid_area": null,
            "grid_template_columns": null,
            "flex": null,
            "_model_name": "LayoutModel",
            "justify_items": null,
            "grid_row": null,
            "max_height": null,
            "align_content": null,
            "visibility": null,
            "align_self": null,
            "height": null,
            "min_height": null,
            "padding": null,
            "grid_auto_rows": null,
            "grid_gap": null,
            "max_width": null,
            "order": null,
            "_view_module_version": "1.2.0",
            "grid_template_areas": null,
            "object_position": null,
            "object_fit": null,
            "grid_auto_columns": null,
            "margin": null,
            "display": null,
            "left": null
          }
        },
        "73d91adb0efd4c0691636e0221519f45": {
          "model_module": "@jupyter-widgets/controls",
          "model_name": "IntProgressModel",
          "state": {
            "_view_name": "ProgressView",
            "style": "IPY_MODEL_5ae6de8a63694381b49fd56667d2af49",
            "_dom_classes": [],
            "description": "",
            "_model_name": "IntProgressModel",
            "bar_style": "success",
            "max": 1,
            "_view_module": "@jupyter-widgets/controls",
            "_model_module_version": "1.5.0",
            "value": 1,
            "_view_count": null,
            "_view_module_version": "1.5.0",
            "orientation": "horizontal",
            "min": 0,
            "description_tooltip": null,
            "_model_module": "@jupyter-widgets/controls",
            "layout": "IPY_MODEL_6171d8bd8c514493a967fd1f1ca555c9"
          }
        },
        "0eb50870c18641879d13879fd0f2a7d8": {
          "model_module": "@jupyter-widgets/controls",
          "model_name": "HTMLModel",
          "state": {
            "_view_name": "HTMLView",
            "style": "IPY_MODEL_2efc527736f444fa952388c7b44db23e",
            "_dom_classes": [],
            "description": "",
            "_model_name": "HTMLModel",
            "placeholder": "​",
            "_view_module": "@jupyter-widgets/controls",
            "_model_module_version": "1.5.0",
            "value": "9920512it [00:00, 19020394.72it/s]",
            "_view_count": null,
            "_view_module_version": "1.5.0",
            "description_tooltip": null,
            "_model_module": "@jupyter-widgets/controls",
            "layout": "IPY_MODEL_6ec47b9246264757abfcfdcc855365ac"
          }
        },
        "5ae6de8a63694381b49fd56667d2af49": {
          "model_module": "@jupyter-widgets/controls",
          "model_name": "ProgressStyleModel",
          "state": {
            "_view_name": "StyleView",
            "_model_name": "ProgressStyleModel",
            "description_width": "",
            "_view_module": "@jupyter-widgets/base",
            "_model_module_version": "1.5.0",
            "_view_count": null,
            "_view_module_version": "1.2.0",
            "bar_color": null,
            "_model_module": "@jupyter-widgets/controls"
          }
        },
        "6171d8bd8c514493a967fd1f1ca555c9": {
          "model_module": "@jupyter-widgets/base",
          "model_name": "LayoutModel",
          "state": {
            "_view_name": "LayoutView",
            "grid_template_rows": null,
            "right": null,
            "justify_content": null,
            "_view_module": "@jupyter-widgets/base",
            "overflow": null,
            "_model_module_version": "1.2.0",
            "_view_count": null,
            "flex_flow": null,
            "width": null,
            "min_width": null,
            "border": null,
            "align_items": null,
            "bottom": null,
            "_model_module": "@jupyter-widgets/base",
            "top": null,
            "grid_column": null,
            "overflow_y": null,
            "overflow_x": null,
            "grid_auto_flow": null,
            "grid_area": null,
            "grid_template_columns": null,
            "flex": null,
            "_model_name": "LayoutModel",
            "justify_items": null,
            "grid_row": null,
            "max_height": null,
            "align_content": null,
            "visibility": null,
            "align_self": null,
            "height": null,
            "min_height": null,
            "padding": null,
            "grid_auto_rows": null,
            "grid_gap": null,
            "max_width": null,
            "order": null,
            "_view_module_version": "1.2.0",
            "grid_template_areas": null,
            "object_position": null,
            "object_fit": null,
            "grid_auto_columns": null,
            "margin": null,
            "display": null,
            "left": null
          }
        },
        "2efc527736f444fa952388c7b44db23e": {
          "model_module": "@jupyter-widgets/controls",
          "model_name": "DescriptionStyleModel",
          "state": {
            "_view_name": "StyleView",
            "_model_name": "DescriptionStyleModel",
            "description_width": "",
            "_view_module": "@jupyter-widgets/base",
            "_model_module_version": "1.5.0",
            "_view_count": null,
            "_view_module_version": "1.2.0",
            "_model_module": "@jupyter-widgets/controls"
          }
        },
        "6ec47b9246264757abfcfdcc855365ac": {
          "model_module": "@jupyter-widgets/base",
          "model_name": "LayoutModel",
          "state": {
            "_view_name": "LayoutView",
            "grid_template_rows": null,
            "right": null,
            "justify_content": null,
            "_view_module": "@jupyter-widgets/base",
            "overflow": null,
            "_model_module_version": "1.2.0",
            "_view_count": null,
            "flex_flow": null,
            "width": null,
            "min_width": null,
            "border": null,
            "align_items": null,
            "bottom": null,
            "_model_module": "@jupyter-widgets/base",
            "top": null,
            "grid_column": null,
            "overflow_y": null,
            "overflow_x": null,
            "grid_auto_flow": null,
            "grid_area": null,
            "grid_template_columns": null,
            "flex": null,
            "_model_name": "LayoutModel",
            "justify_items": null,
            "grid_row": null,
            "max_height": null,
            "align_content": null,
            "visibility": null,
            "align_self": null,
            "height": null,
            "min_height": null,
            "padding": null,
            "grid_auto_rows": null,
            "grid_gap": null,
            "max_width": null,
            "order": null,
            "_view_module_version": "1.2.0",
            "grid_template_areas": null,
            "object_position": null,
            "object_fit": null,
            "grid_auto_columns": null,
            "margin": null,
            "display": null,
            "left": null
          }
        },
        "693636d68b464f18a4d09748ab7b3dd9": {
          "model_module": "@jupyter-widgets/controls",
          "model_name": "HBoxModel",
          "state": {
            "_view_name": "HBoxView",
            "_dom_classes": [],
            "_model_name": "HBoxModel",
            "_view_module": "@jupyter-widgets/controls",
            "_model_module_version": "1.5.0",
            "_view_count": null,
            "_view_module_version": "1.5.0",
            "box_style": "",
            "layout": "IPY_MODEL_c24ee4f50a5842d782fdde25e8e44f3d",
            "_model_module": "@jupyter-widgets/controls",
            "children": [
              "IPY_MODEL_0d2bb03beecc455694a5006d8c9716b8",
              "IPY_MODEL_ce24dec01ece495198b53bc6126252ca"
            ]
          }
        },
        "c24ee4f50a5842d782fdde25e8e44f3d": {
          "model_module": "@jupyter-widgets/base",
          "model_name": "LayoutModel",
          "state": {
            "_view_name": "LayoutView",
            "grid_template_rows": null,
            "right": null,
            "justify_content": null,
            "_view_module": "@jupyter-widgets/base",
            "overflow": null,
            "_model_module_version": "1.2.0",
            "_view_count": null,
            "flex_flow": null,
            "width": null,
            "min_width": null,
            "border": null,
            "align_items": null,
            "bottom": null,
            "_model_module": "@jupyter-widgets/base",
            "top": null,
            "grid_column": null,
            "overflow_y": null,
            "overflow_x": null,
            "grid_auto_flow": null,
            "grid_area": null,
            "grid_template_columns": null,
            "flex": null,
            "_model_name": "LayoutModel",
            "justify_items": null,
            "grid_row": null,
            "max_height": null,
            "align_content": null,
            "visibility": null,
            "align_self": null,
            "height": null,
            "min_height": null,
            "padding": null,
            "grid_auto_rows": null,
            "grid_gap": null,
            "max_width": null,
            "order": null,
            "_view_module_version": "1.2.0",
            "grid_template_areas": null,
            "object_position": null,
            "object_fit": null,
            "grid_auto_columns": null,
            "margin": null,
            "display": null,
            "left": null
          }
        },
        "0d2bb03beecc455694a5006d8c9716b8": {
          "model_module": "@jupyter-widgets/controls",
          "model_name": "IntProgressModel",
          "state": {
            "_view_name": "ProgressView",
            "style": "IPY_MODEL_6dd1247b4c594260932d326f5896bf73",
            "_dom_classes": [],
            "description": "",
            "_model_name": "IntProgressModel",
            "bar_style": "success",
            "max": 1,
            "_view_module": "@jupyter-widgets/controls",
            "_model_module_version": "1.5.0",
            "value": 1,
            "_view_count": null,
            "_view_module_version": "1.5.0",
            "orientation": "horizontal",
            "min": 0,
            "description_tooltip": null,
            "_model_module": "@jupyter-widgets/controls",
            "layout": "IPY_MODEL_b8322e8e4e1447aa94e925d09249c10c"
          }
        },
        "ce24dec01ece495198b53bc6126252ca": {
          "model_module": "@jupyter-widgets/controls",
          "model_name": "HTMLModel",
          "state": {
            "_view_name": "HTMLView",
            "style": "IPY_MODEL_52c7c470c6ab40169e114261176e1d12",
            "_dom_classes": [],
            "description": "",
            "_model_name": "HTMLModel",
            "placeholder": "​",
            "_view_module": "@jupyter-widgets/controls",
            "_model_module_version": "1.5.0",
            "value": "32768it [00:00, 266369.02it/s]",
            "_view_count": null,
            "_view_module_version": "1.5.0",
            "description_tooltip": null,
            "_model_module": "@jupyter-widgets/controls",
            "layout": "IPY_MODEL_54d9261bf7be40f8ad022e97724eba81"
          }
        },
        "6dd1247b4c594260932d326f5896bf73": {
          "model_module": "@jupyter-widgets/controls",
          "model_name": "ProgressStyleModel",
          "state": {
            "_view_name": "StyleView",
            "_model_name": "ProgressStyleModel",
            "description_width": "",
            "_view_module": "@jupyter-widgets/base",
            "_model_module_version": "1.5.0",
            "_view_count": null,
            "_view_module_version": "1.2.0",
            "bar_color": null,
            "_model_module": "@jupyter-widgets/controls"
          }
        },
        "b8322e8e4e1447aa94e925d09249c10c": {
          "model_module": "@jupyter-widgets/base",
          "model_name": "LayoutModel",
          "state": {
            "_view_name": "LayoutView",
            "grid_template_rows": null,
            "right": null,
            "justify_content": null,
            "_view_module": "@jupyter-widgets/base",
            "overflow": null,
            "_model_module_version": "1.2.0",
            "_view_count": null,
            "flex_flow": null,
            "width": null,
            "min_width": null,
            "border": null,
            "align_items": null,
            "bottom": null,
            "_model_module": "@jupyter-widgets/base",
            "top": null,
            "grid_column": null,
            "overflow_y": null,
            "overflow_x": null,
            "grid_auto_flow": null,
            "grid_area": null,
            "grid_template_columns": null,
            "flex": null,
            "_model_name": "LayoutModel",
            "justify_items": null,
            "grid_row": null,
            "max_height": null,
            "align_content": null,
            "visibility": null,
            "align_self": null,
            "height": null,
            "min_height": null,
            "padding": null,
            "grid_auto_rows": null,
            "grid_gap": null,
            "max_width": null,
            "order": null,
            "_view_module_version": "1.2.0",
            "grid_template_areas": null,
            "object_position": null,
            "object_fit": null,
            "grid_auto_columns": null,
            "margin": null,
            "display": null,
            "left": null
          }
        },
        "52c7c470c6ab40169e114261176e1d12": {
          "model_module": "@jupyter-widgets/controls",
          "model_name": "DescriptionStyleModel",
          "state": {
            "_view_name": "StyleView",
            "_model_name": "DescriptionStyleModel",
            "description_width": "",
            "_view_module": "@jupyter-widgets/base",
            "_model_module_version": "1.5.0",
            "_view_count": null,
            "_view_module_version": "1.2.0",
            "_model_module": "@jupyter-widgets/controls"
          }
        },
        "54d9261bf7be40f8ad022e97724eba81": {
          "model_module": "@jupyter-widgets/base",
          "model_name": "LayoutModel",
          "state": {
            "_view_name": "LayoutView",
            "grid_template_rows": null,
            "right": null,
            "justify_content": null,
            "_view_module": "@jupyter-widgets/base",
            "overflow": null,
            "_model_module_version": "1.2.0",
            "_view_count": null,
            "flex_flow": null,
            "width": null,
            "min_width": null,
            "border": null,
            "align_items": null,
            "bottom": null,
            "_model_module": "@jupyter-widgets/base",
            "top": null,
            "grid_column": null,
            "overflow_y": null,
            "overflow_x": null,
            "grid_auto_flow": null,
            "grid_area": null,
            "grid_template_columns": null,
            "flex": null,
            "_model_name": "LayoutModel",
            "justify_items": null,
            "grid_row": null,
            "max_height": null,
            "align_content": null,
            "visibility": null,
            "align_self": null,
            "height": null,
            "min_height": null,
            "padding": null,
            "grid_auto_rows": null,
            "grid_gap": null,
            "max_width": null,
            "order": null,
            "_view_module_version": "1.2.0",
            "grid_template_areas": null,
            "object_position": null,
            "object_fit": null,
            "grid_auto_columns": null,
            "margin": null,
            "display": null,
            "left": null
          }
        },
        "188528d1de7a43a79dcf56c8c4e93582": {
          "model_module": "@jupyter-widgets/controls",
          "model_name": "HBoxModel",
          "state": {
            "_view_name": "HBoxView",
            "_dom_classes": [],
            "_model_name": "HBoxModel",
            "_view_module": "@jupyter-widgets/controls",
            "_model_module_version": "1.5.0",
            "_view_count": null,
            "_view_module_version": "1.5.0",
            "box_style": "",
            "layout": "IPY_MODEL_dee45b1aa8b34c32b733d72c51341945",
            "_model_module": "@jupyter-widgets/controls",
            "children": [
              "IPY_MODEL_9b5558444d874705a3ec3ead4bceb551",
              "IPY_MODEL_c5a5ef1d957a4b569674d1cfb6bef714"
            ]
          }
        },
        "dee45b1aa8b34c32b733d72c51341945": {
          "model_module": "@jupyter-widgets/base",
          "model_name": "LayoutModel",
          "state": {
            "_view_name": "LayoutView",
            "grid_template_rows": null,
            "right": null,
            "justify_content": null,
            "_view_module": "@jupyter-widgets/base",
            "overflow": null,
            "_model_module_version": "1.2.0",
            "_view_count": null,
            "flex_flow": null,
            "width": null,
            "min_width": null,
            "border": null,
            "align_items": null,
            "bottom": null,
            "_model_module": "@jupyter-widgets/base",
            "top": null,
            "grid_column": null,
            "overflow_y": null,
            "overflow_x": null,
            "grid_auto_flow": null,
            "grid_area": null,
            "grid_template_columns": null,
            "flex": null,
            "_model_name": "LayoutModel",
            "justify_items": null,
            "grid_row": null,
            "max_height": null,
            "align_content": null,
            "visibility": null,
            "align_self": null,
            "height": null,
            "min_height": null,
            "padding": null,
            "grid_auto_rows": null,
            "grid_gap": null,
            "max_width": null,
            "order": null,
            "_view_module_version": "1.2.0",
            "grid_template_areas": null,
            "object_position": null,
            "object_fit": null,
            "grid_auto_columns": null,
            "margin": null,
            "display": null,
            "left": null
          }
        },
        "9b5558444d874705a3ec3ead4bceb551": {
          "model_module": "@jupyter-widgets/controls",
          "model_name": "IntProgressModel",
          "state": {
            "_view_name": "ProgressView",
            "style": "IPY_MODEL_03da0ea0b4184e01b10953db55f401ad",
            "_dom_classes": [],
            "description": "",
            "_model_name": "IntProgressModel",
            "bar_style": "success",
            "max": 1,
            "_view_module": "@jupyter-widgets/controls",
            "_model_module_version": "1.5.0",
            "value": 1,
            "_view_count": null,
            "_view_module_version": "1.5.0",
            "orientation": "horizontal",
            "min": 0,
            "description_tooltip": null,
            "_model_module": "@jupyter-widgets/controls",
            "layout": "IPY_MODEL_0ac9f7e0aeba4f17848078304c27dd2b"
          }
        },
        "c5a5ef1d957a4b569674d1cfb6bef714": {
          "model_module": "@jupyter-widgets/controls",
          "model_name": "HTMLModel",
          "state": {
            "_view_name": "HTMLView",
            "style": "IPY_MODEL_6036f5cef1454e878d8297a02c8c6bb3",
            "_dom_classes": [],
            "description": "",
            "_model_name": "HTMLModel",
            "placeholder": "​",
            "_view_module": "@jupyter-widgets/controls",
            "_model_module_version": "1.5.0",
            "value": "1654784it [00:00, 5064169.52it/s]",
            "_view_count": null,
            "_view_module_version": "1.5.0",
            "description_tooltip": null,
            "_model_module": "@jupyter-widgets/controls",
            "layout": "IPY_MODEL_f708407d10aa40e78b2ddccf71d7f9f5"
          }
        },
        "03da0ea0b4184e01b10953db55f401ad": {
          "model_module": "@jupyter-widgets/controls",
          "model_name": "ProgressStyleModel",
          "state": {
            "_view_name": "StyleView",
            "_model_name": "ProgressStyleModel",
            "description_width": "",
            "_view_module": "@jupyter-widgets/base",
            "_model_module_version": "1.5.0",
            "_view_count": null,
            "_view_module_version": "1.2.0",
            "bar_color": null,
            "_model_module": "@jupyter-widgets/controls"
          }
        },
        "0ac9f7e0aeba4f17848078304c27dd2b": {
          "model_module": "@jupyter-widgets/base",
          "model_name": "LayoutModel",
          "state": {
            "_view_name": "LayoutView",
            "grid_template_rows": null,
            "right": null,
            "justify_content": null,
            "_view_module": "@jupyter-widgets/base",
            "overflow": null,
            "_model_module_version": "1.2.0",
            "_view_count": null,
            "flex_flow": null,
            "width": null,
            "min_width": null,
            "border": null,
            "align_items": null,
            "bottom": null,
            "_model_module": "@jupyter-widgets/base",
            "top": null,
            "grid_column": null,
            "overflow_y": null,
            "overflow_x": null,
            "grid_auto_flow": null,
            "grid_area": null,
            "grid_template_columns": null,
            "flex": null,
            "_model_name": "LayoutModel",
            "justify_items": null,
            "grid_row": null,
            "max_height": null,
            "align_content": null,
            "visibility": null,
            "align_self": null,
            "height": null,
            "min_height": null,
            "padding": null,
            "grid_auto_rows": null,
            "grid_gap": null,
            "max_width": null,
            "order": null,
            "_view_module_version": "1.2.0",
            "grid_template_areas": null,
            "object_position": null,
            "object_fit": null,
            "grid_auto_columns": null,
            "margin": null,
            "display": null,
            "left": null
          }
        },
        "6036f5cef1454e878d8297a02c8c6bb3": {
          "model_module": "@jupyter-widgets/controls",
          "model_name": "DescriptionStyleModel",
          "state": {
            "_view_name": "StyleView",
            "_model_name": "DescriptionStyleModel",
            "description_width": "",
            "_view_module": "@jupyter-widgets/base",
            "_model_module_version": "1.5.0",
            "_view_count": null,
            "_view_module_version": "1.2.0",
            "_model_module": "@jupyter-widgets/controls"
          }
        },
        "f708407d10aa40e78b2ddccf71d7f9f5": {
          "model_module": "@jupyter-widgets/base",
          "model_name": "LayoutModel",
          "state": {
            "_view_name": "LayoutView",
            "grid_template_rows": null,
            "right": null,
            "justify_content": null,
            "_view_module": "@jupyter-widgets/base",
            "overflow": null,
            "_model_module_version": "1.2.0",
            "_view_count": null,
            "flex_flow": null,
            "width": null,
            "min_width": null,
            "border": null,
            "align_items": null,
            "bottom": null,
            "_model_module": "@jupyter-widgets/base",
            "top": null,
            "grid_column": null,
            "overflow_y": null,
            "overflow_x": null,
            "grid_auto_flow": null,
            "grid_area": null,
            "grid_template_columns": null,
            "flex": null,
            "_model_name": "LayoutModel",
            "justify_items": null,
            "grid_row": null,
            "max_height": null,
            "align_content": null,
            "visibility": null,
            "align_self": null,
            "height": null,
            "min_height": null,
            "padding": null,
            "grid_auto_rows": null,
            "grid_gap": null,
            "max_width": null,
            "order": null,
            "_view_module_version": "1.2.0",
            "grid_template_areas": null,
            "object_position": null,
            "object_fit": null,
            "grid_auto_columns": null,
            "margin": null,
            "display": null,
            "left": null
          }
        },
        "92c2f3b5a9294c4d9a95ae6cf9189522": {
          "model_module": "@jupyter-widgets/controls",
          "model_name": "HBoxModel",
          "state": {
            "_view_name": "HBoxView",
            "_dom_classes": [],
            "_model_name": "HBoxModel",
            "_view_module": "@jupyter-widgets/controls",
            "_model_module_version": "1.5.0",
            "_view_count": null,
            "_view_module_version": "1.5.0",
            "box_style": "",
            "layout": "IPY_MODEL_4350694c5f2e4cc18d01095be3ed461a",
            "_model_module": "@jupyter-widgets/controls",
            "children": [
              "IPY_MODEL_9dcc06168a2348b3b13fd6e2a4f3cb56",
              "IPY_MODEL_e699b730ebda4d3b8a8b63f7d0fb9e56"
            ]
          }
        },
        "4350694c5f2e4cc18d01095be3ed461a": {
          "model_module": "@jupyter-widgets/base",
          "model_name": "LayoutModel",
          "state": {
            "_view_name": "LayoutView",
            "grid_template_rows": null,
            "right": null,
            "justify_content": null,
            "_view_module": "@jupyter-widgets/base",
            "overflow": null,
            "_model_module_version": "1.2.0",
            "_view_count": null,
            "flex_flow": null,
            "width": null,
            "min_width": null,
            "border": null,
            "align_items": null,
            "bottom": null,
            "_model_module": "@jupyter-widgets/base",
            "top": null,
            "grid_column": null,
            "overflow_y": null,
            "overflow_x": null,
            "grid_auto_flow": null,
            "grid_area": null,
            "grid_template_columns": null,
            "flex": null,
            "_model_name": "LayoutModel",
            "justify_items": null,
            "grid_row": null,
            "max_height": null,
            "align_content": null,
            "visibility": null,
            "align_self": null,
            "height": null,
            "min_height": null,
            "padding": null,
            "grid_auto_rows": null,
            "grid_gap": null,
            "max_width": null,
            "order": null,
            "_view_module_version": "1.2.0",
            "grid_template_areas": null,
            "object_position": null,
            "object_fit": null,
            "grid_auto_columns": null,
            "margin": null,
            "display": null,
            "left": null
          }
        },
        "9dcc06168a2348b3b13fd6e2a4f3cb56": {
          "model_module": "@jupyter-widgets/controls",
          "model_name": "IntProgressModel",
          "state": {
            "_view_name": "ProgressView",
            "style": "IPY_MODEL_9646354e66dc45f59f5f65c87487a9ba",
            "_dom_classes": [],
            "description": "",
            "_model_name": "IntProgressModel",
            "bar_style": "success",
            "max": 1,
            "_view_module": "@jupyter-widgets/controls",
            "_model_module_version": "1.5.0",
            "value": 1,
            "_view_count": null,
            "_view_module_version": "1.5.0",
            "orientation": "horizontal",
            "min": 0,
            "description_tooltip": null,
            "_model_module": "@jupyter-widgets/controls",
            "layout": "IPY_MODEL_8b5d1a0247c84e68b1c174cebdd58849"
          }
        },
        "e699b730ebda4d3b8a8b63f7d0fb9e56": {
          "model_module": "@jupyter-widgets/controls",
          "model_name": "HTMLModel",
          "state": {
            "_view_name": "HTMLView",
            "style": "IPY_MODEL_872b7b0ab8c84fc39713264e3cd5a4fa",
            "_dom_classes": [],
            "description": "",
            "_model_name": "HTMLModel",
            "placeholder": "​",
            "_view_module": "@jupyter-widgets/controls",
            "_model_module_version": "1.5.0",
            "value": "8192it [00:00, 101094.92it/s]",
            "_view_count": null,
            "_view_module_version": "1.5.0",
            "description_tooltip": null,
            "_model_module": "@jupyter-widgets/controls",
            "layout": "IPY_MODEL_a0393ac0fabe48a99db1b080732f28bf"
          }
        },
        "9646354e66dc45f59f5f65c87487a9ba": {
          "model_module": "@jupyter-widgets/controls",
          "model_name": "ProgressStyleModel",
          "state": {
            "_view_name": "StyleView",
            "_model_name": "ProgressStyleModel",
            "description_width": "",
            "_view_module": "@jupyter-widgets/base",
            "_model_module_version": "1.5.0",
            "_view_count": null,
            "_view_module_version": "1.2.0",
            "bar_color": null,
            "_model_module": "@jupyter-widgets/controls"
          }
        },
        "8b5d1a0247c84e68b1c174cebdd58849": {
          "model_module": "@jupyter-widgets/base",
          "model_name": "LayoutModel",
          "state": {
            "_view_name": "LayoutView",
            "grid_template_rows": null,
            "right": null,
            "justify_content": null,
            "_view_module": "@jupyter-widgets/base",
            "overflow": null,
            "_model_module_version": "1.2.0",
            "_view_count": null,
            "flex_flow": null,
            "width": null,
            "min_width": null,
            "border": null,
            "align_items": null,
            "bottom": null,
            "_model_module": "@jupyter-widgets/base",
            "top": null,
            "grid_column": null,
            "overflow_y": null,
            "overflow_x": null,
            "grid_auto_flow": null,
            "grid_area": null,
            "grid_template_columns": null,
            "flex": null,
            "_model_name": "LayoutModel",
            "justify_items": null,
            "grid_row": null,
            "max_height": null,
            "align_content": null,
            "visibility": null,
            "align_self": null,
            "height": null,
            "min_height": null,
            "padding": null,
            "grid_auto_rows": null,
            "grid_gap": null,
            "max_width": null,
            "order": null,
            "_view_module_version": "1.2.0",
            "grid_template_areas": null,
            "object_position": null,
            "object_fit": null,
            "grid_auto_columns": null,
            "margin": null,
            "display": null,
            "left": null
          }
        },
        "872b7b0ab8c84fc39713264e3cd5a4fa": {
          "model_module": "@jupyter-widgets/controls",
          "model_name": "DescriptionStyleModel",
          "state": {
            "_view_name": "StyleView",
            "_model_name": "DescriptionStyleModel",
            "description_width": "",
            "_view_module": "@jupyter-widgets/base",
            "_model_module_version": "1.5.0",
            "_view_count": null,
            "_view_module_version": "1.2.0",
            "_model_module": "@jupyter-widgets/controls"
          }
        },
        "a0393ac0fabe48a99db1b080732f28bf": {
          "model_module": "@jupyter-widgets/base",
          "model_name": "LayoutModel",
          "state": {
            "_view_name": "LayoutView",
            "grid_template_rows": null,
            "right": null,
            "justify_content": null,
            "_view_module": "@jupyter-widgets/base",
            "overflow": null,
            "_model_module_version": "1.2.0",
            "_view_count": null,
            "flex_flow": null,
            "width": null,
            "min_width": null,
            "border": null,
            "align_items": null,
            "bottom": null,
            "_model_module": "@jupyter-widgets/base",
            "top": null,
            "grid_column": null,
            "overflow_y": null,
            "overflow_x": null,
            "grid_auto_flow": null,
            "grid_area": null,
            "grid_template_columns": null,
            "flex": null,
            "_model_name": "LayoutModel",
            "justify_items": null,
            "grid_row": null,
            "max_height": null,
            "align_content": null,
            "visibility": null,
            "align_self": null,
            "height": null,
            "min_height": null,
            "padding": null,
            "grid_auto_rows": null,
            "grid_gap": null,
            "max_width": null,
            "order": null,
            "_view_module_version": "1.2.0",
            "grid_template_areas": null,
            "object_position": null,
            "object_fit": null,
            "grid_auto_columns": null,
            "margin": null,
            "display": null,
            "left": null
          }
        }
      }
    }
  },
  "cells": [
    {
      "cell_type": "markdown",
      "metadata": {
        "id": "view-in-github",
        "colab_type": "text"
      },
      "source": [
        "<a href=\"https://colab.research.google.com/github/gmihaila/machine_learning_things/blob/master/learning_pytorch/pytorch_nn.ipynb\" target=\"_parent\"><img src=\"https://colab.research.google.com/assets/colab-badge.svg\" alt=\"Open In Colab\"/></a>"
      ]
    },
    {
      "cell_type": "markdown",
      "metadata": {
        "id": "Y8f-8KN0CB46",
        "colab_type": "text"
      },
      "source": [
        "### SImple NN\n",
        "\n",
        "1 hiddent layer NN"
      ]
    },
    {
      "cell_type": "markdown",
      "metadata": {
        "id": "-mbu3qmn3Q6I",
        "colab_type": "text"
      },
      "source": [
        "#### Initialize NN"
      ]
    },
    {
      "cell_type": "code",
      "metadata": {
        "id": "iddJzHDZCARo",
        "colab_type": "code",
        "outputId": "ab024dc5-ef58-484a-d6f7-2c7f07d881a7",
        "colab": {
          "base_uri": "https://localhost:8080/",
          "height": 176
        }
      },
      "source": [
        "import torch\n",
        "\n",
        "n_input, n_hidden, n_output = 5, 3, 1\n",
        "\n",
        "## initialize tensor for inputs, and outputs \n",
        "x = torch.randn((1, n_input))\n",
        "y = torch.rand((1,n_output)) \n",
        "\n",
        "\n",
        "print(x.size())\n",
        "print(y.size())\n",
        "print()\n",
        "\n",
        "## initialize tensor variables for weights \n",
        "w1 = torch.rand((n_input, n_hidden))\n",
        "w2 = torch.rand((n_hidden, n_output))\n",
        "\n",
        "print(w1.size())\n",
        "print(w2.size())\n",
        "print()\n",
        "\n",
        "## initialize tensor variables for bias terms \n",
        "b1 = torch.rand((1,n_hidden))\n",
        "b2 = torch.rand((1,n_output))\n",
        "\n",
        "print(b1.size())\n",
        "print(b2.size())\n",
        "print()\n",
        "\n"
      ],
      "execution_count": 2,
      "outputs": [
        {
          "output_type": "stream",
          "text": [
            "torch.Size([1, 5])\n",
            "torch.Size([1, 1])\n",
            "\n",
            "torch.Size([5, 3])\n",
            "torch.Size([3, 1])\n",
            "\n",
            "torch.Size([1, 3])\n",
            "torch.Size([1, 1])\n",
            "\n"
          ],
          "name": "stdout"
        }
      ]
    },
    {
      "cell_type": "markdown",
      "metadata": {
        "id": "Qsi4mZJN3WJL",
        "colab_type": "text"
      },
      "source": [
        "#### Forward Pass"
      ]
    },
    {
      "cell_type": "markdown",
      "metadata": {
        "id": "RzKELrKSD-t5",
        "colab_type": "text"
      },
      "source": [
        "1. Forward Propagation\n",
        "2. Loss computation\n",
        "3. Backpropagation\n",
        "4. Updating the parameters"
      ]
    },
    {
      "cell_type": "code",
      "metadata": {
        "id": "dHNZuYc-EEWb",
        "colab_type": "code",
        "outputId": "33258046-6190-4318-d031-3da579596aff",
        "colab": {
          "base_uri": "https://localhost:8080/",
          "height": 141
        }
      },
      "source": [
        "## sigmoid activation function using pytorch\n",
        "def sigmoid_activation(z):\n",
        "  return 1 / (1 + torch.exp(-z))\n",
        "\n",
        "## activation of hidden layer \n",
        "z1 = torch.mm(X,w1) + b1\n",
        "a1 = sigmoid_activation(z1)\n",
        "\n",
        "print(z1)\n",
        "print(a1)\n",
        "print()\n",
        "\n",
        "## activation (output) of final layer \n",
        "z2 = torch.mm(a1, w2) + b2\n",
        "a2 = output = sigmoid_activation(z2)\n",
        "\n",
        "print(z2)\n",
        "print(output)\n",
        "print()\n",
        "\n",
        "loss = y - output\n",
        "\n",
        "print(loss)"
      ],
      "execution_count": 3,
      "outputs": [
        {
          "output_type": "stream",
          "text": [
            "tensor([[ 0.2044, -0.7169, -0.5639]])\n",
            "tensor([[0.5509, 0.3281, 0.3626]])\n",
            "\n",
            "tensor([[1.1906]])\n",
            "tensor([[0.7669]])\n",
            "\n",
            "tensor([[0.0322]])\n"
          ],
          "name": "stdout"
        }
      ]
    },
    {
      "cell_type": "markdown",
      "metadata": {
        "id": "Y4oRU8O9JTOG",
        "colab_type": "text"
      },
      "source": [
        "#### Backprop\n",
        "\n",
        "* loss gets multiplied by weights to penalize more of the bad weights\n",
        "* some weights contirbute more to the output. If the error is large, their loss will be more"
      ]
    },
    {
      "cell_type": "code",
      "metadata": {
        "id": "XbfW0NhaEkM_",
        "colab_type": "code",
        "outputId": "d0102ac9-6603-4475-a987-fb019c1f313f",
        "colab": {
          "base_uri": "https://localhost:8080/",
          "height": 123
        }
      },
      "source": [
        "## function to calculate the derivative of activation\n",
        "def sigmoid_delta(x):\n",
        "  return x * (1 - x)\n",
        "\n",
        "## compute derivative of error terms\n",
        "delta_output = sigmoid_delta(output)\n",
        "delta_hidden = sigmoid_delta(a1)\n",
        "\n",
        "print(delta_output)\n",
        "print(delta_hidden)\n",
        "print()\n",
        "\n",
        "\n",
        "## backpass the changes to previous layers \n",
        "d_output = loss * delta_output\n",
        "loss_h = torch.mm(d_output, w2.t())\n",
        "d_hidden = loss_h * delta_hidden\n",
        "\n",
        "print(d_output)\n",
        "print(loss_h)\n",
        "print(d_hidden)"
      ],
      "execution_count": 4,
      "outputs": [
        {
          "output_type": "stream",
          "text": [
            "tensor([[0.1788]])\n",
            "tensor([[0.2474, 0.2204, 0.2311]])\n",
            "\n",
            "tensor([[0.0058]])\n",
            "tensor([[0.0041, 0.0046, 0.0009]])\n",
            "tensor([[0.0010, 0.0010, 0.0002]])\n"
          ],
          "name": "stdout"
        }
      ]
    },
    {
      "cell_type": "markdown",
      "metadata": {
        "id": "EbWmAwXtJ4xj",
        "colab_type": "text"
      },
      "source": [
        "#### Update Parameters"
      ]
    },
    {
      "cell_type": "code",
      "metadata": {
        "id": "YHRwQNWyJ-KG",
        "colab_type": "code",
        "outputId": "20ccbb71-3c73-4369-884d-0ea061daf716",
        "colab": {
          "base_uri": "https://localhost:8080/",
          "height": 212
        }
      },
      "source": [
        "learning_rate = 0.1\n",
        "\n",
        "w2 += torch.mm(a1.t(), d_output) * learning_rate\n",
        "w1 += torch.mm(X.t(), d_hidden) * learning_rate\n",
        "\n",
        "\n",
        "print(w2)\n",
        "print(w1)\n",
        "print()\n",
        "\n",
        "b1 += d_output.sum() * learning_rate\n",
        "b2 += d_hidden.sum() * learning_rate\n",
        "\n",
        "print(b1)\n",
        "print(b2)"
      ],
      "execution_count": 5,
      "outputs": [
        {
          "output_type": "stream",
          "text": [
            "tensor([[0.7070],\n",
            "        [0.7974],\n",
            "        [0.1501]])\n",
            "tensor([[0.4808, 0.0862, 0.6435],\n",
            "        [0.8699, 0.2561, 0.4573],\n",
            "        [0.7798, 0.8161, 0.8716],\n",
            "        [0.0207, 0.8421, 0.4006],\n",
            "        [0.4842, 0.7205, 0.5377]])\n",
            "\n",
            "tensor([[0.1041, 0.7739, 0.8514]])\n",
            "tensor([[0.4856]])\n"
          ],
          "name": "stdout"
        }
      ]
    },
    {
      "cell_type": "markdown",
      "metadata": {
        "id": "vdo5seVgay4f",
        "colab_type": "text"
      },
      "source": [
        "### MNIST Data Loader"
      ]
    },
    {
      "cell_type": "code",
      "metadata": {
        "colab_type": "code",
        "outputId": "01bca506-e116-4be5-865e-6c24f279bf18",
        "id": "ZSRKe2UUm9-K",
        "colab": {
          "base_uri": "https://localhost:8080/",
          "height": 428,
          "referenced_widgets": [
            "021147b8b94a46f4a2c7fac01de839a1",
            "926f6433b7ae41d7a1c6248e0d9e013d",
            "73d91adb0efd4c0691636e0221519f45",
            "0eb50870c18641879d13879fd0f2a7d8",
            "5ae6de8a63694381b49fd56667d2af49",
            "6171d8bd8c514493a967fd1f1ca555c9",
            "2efc527736f444fa952388c7b44db23e",
            "6ec47b9246264757abfcfdcc855365ac",
            "693636d68b464f18a4d09748ab7b3dd9",
            "c24ee4f50a5842d782fdde25e8e44f3d",
            "0d2bb03beecc455694a5006d8c9716b8",
            "ce24dec01ece495198b53bc6126252ca",
            "6dd1247b4c594260932d326f5896bf73",
            "b8322e8e4e1447aa94e925d09249c10c",
            "52c7c470c6ab40169e114261176e1d12",
            "54d9261bf7be40f8ad022e97724eba81",
            "188528d1de7a43a79dcf56c8c4e93582",
            "dee45b1aa8b34c32b733d72c51341945",
            "9b5558444d874705a3ec3ead4bceb551",
            "c5a5ef1d957a4b569674d1cfb6bef714",
            "03da0ea0b4184e01b10953db55f401ad",
            "0ac9f7e0aeba4f17848078304c27dd2b",
            "6036f5cef1454e878d8297a02c8c6bb3",
            "f708407d10aa40e78b2ddccf71d7f9f5",
            "92c2f3b5a9294c4d9a95ae6cf9189522",
            "4350694c5f2e4cc18d01095be3ed461a",
            "9dcc06168a2348b3b13fd6e2a4f3cb56",
            "e699b730ebda4d3b8a8b63f7d0fb9e56",
            "9646354e66dc45f59f5f65c87487a9ba",
            "8b5d1a0247c84e68b1c174cebdd58849",
            "872b7b0ab8c84fc39713264e3cd5a4fa",
            "a0393ac0fabe48a99db1b080732f28bf"
          ]
        }
      },
      "source": [
        "import torch\n",
        "from torch import optim\n",
        "import torch.nn as nn\n",
        "import torch.nn.functional as F\n",
        "from torchvision import transforms\n",
        "from torchvision.datasets import MNIST\n",
        "from torch.utils.data import DataLoader\n",
        "from torch.utils.data.sampler import SubsetRandomSampler\n",
        "import numpy as np\n",
        "\n",
        "# transform the raw dataset into tensors and normalize them in a fixed range\n",
        "_tasks = transforms.Compose([transforms.ToTensor(),transforms.Normalize((0.5,), (0.5,))]) #pass mean 0.5 and std 0.5\n",
        "\n",
        "## Load MNIST Dataset and apply transformations\n",
        "mnist = MNIST(\"data\", download=True, train=True, transform=_tasks)\n",
        "\n",
        "## create training and validation split \n",
        "split = int(0.8 * len(mnist))\n",
        "index_list = list(range(len(mnist)))\n",
        "train_idx, valid_idx = index_list[:split], index_list[split:]\n",
        "\n",
        "## create sampler objects using SubsetRandomSampler\n",
        "tr_sampler = SubsetRandomSampler(train_idx)\n",
        "val_sampler = SubsetRandomSampler(valid_idx)\n",
        "\n",
        "## create iterator objects for train and valid datasets\n",
        "trainloader = DataLoader(mnist, batch_size=256, sampler=tr_sampler)\n",
        "validloader = DataLoader(mnist, batch_size=256, sampler=val_sampler)\n",
        "\n",
        "\n",
        "for data, label in trainloader:\n",
        "  print(np.shape(data))\n",
        "  # Flatten MNIST images into a 784 long vector\n",
        "  # data = data.view(data.shape[0], -1)\n",
        "  # print(data.shape)\n",
        "\n",
        "  data = torch.flatten(data, start_dim=1)\n",
        "  print(data.shape)\n",
        "  break"
      ],
      "execution_count": 6,
      "outputs": [
        {
          "output_type": "stream",
          "text": [
            "Downloading http://yann.lecun.com/exdb/mnist/train-images-idx3-ubyte.gz to data/MNIST/raw/train-images-idx3-ubyte.gz\n"
          ],
          "name": "stdout"
        },
        {
          "output_type": "display_data",
          "data": {
            "application/vnd.jupyter.widget-view+json": {
              "model_id": "021147b8b94a46f4a2c7fac01de839a1",
              "version_minor": 0,
              "version_major": 2
            },
            "text/plain": [
              "HBox(children=(IntProgress(value=1, bar_style='info', max=1), HTML(value='')))"
            ]
          },
          "metadata": {
            "tags": []
          }
        },
        {
          "output_type": "stream",
          "text": [
            "\n",
            "Extracting data/MNIST/raw/train-images-idx3-ubyte.gz to data/MNIST/raw\n",
            "Downloading http://yann.lecun.com/exdb/mnist/train-labels-idx1-ubyte.gz to data/MNIST/raw/train-labels-idx1-ubyte.gz\n"
          ],
          "name": "stdout"
        },
        {
          "output_type": "display_data",
          "data": {
            "application/vnd.jupyter.widget-view+json": {
              "model_id": "693636d68b464f18a4d09748ab7b3dd9",
              "version_minor": 0,
              "version_major": 2
            },
            "text/plain": [
              "HBox(children=(IntProgress(value=1, bar_style='info', max=1), HTML(value='')))"
            ]
          },
          "metadata": {
            "tags": []
          }
        },
        {
          "output_type": "stream",
          "text": [
            "\n",
            "Extracting data/MNIST/raw/train-labels-idx1-ubyte.gz to data/MNIST/raw\n",
            "Downloading http://yann.lecun.com/exdb/mnist/t10k-images-idx3-ubyte.gz to data/MNIST/raw/t10k-images-idx3-ubyte.gz\n"
          ],
          "name": "stdout"
        },
        {
          "output_type": "display_data",
          "data": {
            "application/vnd.jupyter.widget-view+json": {
              "model_id": "188528d1de7a43a79dcf56c8c4e93582",
              "version_minor": 0,
              "version_major": 2
            },
            "text/plain": [
              "HBox(children=(IntProgress(value=1, bar_style='info', max=1), HTML(value='')))"
            ]
          },
          "metadata": {
            "tags": []
          }
        },
        {
          "output_type": "stream",
          "text": [
            "\n",
            "Extracting data/MNIST/raw/t10k-images-idx3-ubyte.gz to data/MNIST/raw\n",
            "Downloading http://yann.lecun.com/exdb/mnist/t10k-labels-idx1-ubyte.gz to data/MNIST/raw/t10k-labels-idx1-ubyte.gz\n"
          ],
          "name": "stdout"
        },
        {
          "output_type": "display_data",
          "data": {
            "application/vnd.jupyter.widget-view+json": {
              "model_id": "92c2f3b5a9294c4d9a95ae6cf9189522",
              "version_minor": 0,
              "version_major": 2
            },
            "text/plain": [
              "HBox(children=(IntProgress(value=1, bar_style='info', max=1), HTML(value='')))"
            ]
          },
          "metadata": {
            "tags": []
          }
        },
        {
          "output_type": "stream",
          "text": [
            "\n",
            "Extracting data/MNIST/raw/t10k-labels-idx1-ubyte.gz to data/MNIST/raw\n",
            "Processing...\n",
            "Done!\n",
            "torch.Size([256, 1, 28, 28])\n",
            "torch.Size([256, 784])\n"
          ],
          "name": "stdout"
        }
      ]
    },
    {
      "cell_type": "markdown",
      "metadata": {
        "id": "8RFHs8bda0xx",
        "colab_type": "text"
      },
      "source": [
        "### MNIST - NN"
      ]
    },
    {
      "cell_type": "code",
      "metadata": {
        "id": "0coSr0H-a4yR",
        "colab_type": "code",
        "outputId": "19a8a97f-b1ce-4eff-cdde-12def519e2b7",
        "colab": {
          "base_uri": "https://localhost:8080/",
          "height": 194
        }
      },
      "source": [
        "import torch\n",
        "from torch import optim\n",
        "import torch.nn as nn\n",
        "import torch.nn.functional as F\n",
        "from torchvision import transforms\n",
        "from torchvision.datasets import MNIST\n",
        "from torch.utils.data import DataLoader\n",
        "from torch.utils.data.sampler import SubsetRandomSampler\n",
        "import numpy as np\n",
        "\n",
        "# transform the raw dataset into tensors and normalize them in a fixed range\n",
        "_tasks = transforms.Compose([transforms.ToTensor(),transforms.Normalize((0.5,), (0.5,))])\n",
        "\n",
        "## Load MNIST Dataset and apply transformations\n",
        "mnist = MNIST(\"data\", download=True, train=True, transform=_tasks)\n",
        "\n",
        "## create training and validation split \n",
        "split = int(0.8 * len(mnist))\n",
        "index_list = list(range(len(mnist)))\n",
        "train_idx, valid_idx = index_list[:split], index_list[split:]\n",
        "\n",
        "## create sampler objects using SubsetRandomSampler\n",
        "tr_sampler = SubsetRandomSampler(train_idx)\n",
        "val_sampler = SubsetRandomSampler(valid_idx)\n",
        "\n",
        "## create iterator objects for train and valid datasets\n",
        "trainloader = DataLoader(mnist, batch_size=256, sampler=tr_sampler)\n",
        "validloader = DataLoader(mnist, batch_size=256, sampler=val_sampler)\n",
        "\n",
        "## Build class of model\n",
        "class Model(nn.Module):\n",
        "    def __init__(self):\n",
        "        super().__init__()\n",
        "        self.hidden = nn.Linear(784, 128)\n",
        "        self.output = nn.Linear(128, 10)\n",
        "\n",
        "    def forward(self, x):\n",
        "        x = self.hidden(x)\n",
        "        x = torch.sigmoid(x)\n",
        "        x = self.output(x)\n",
        "        return x\n",
        "\n",
        "model = Model()\n",
        "\n",
        "loss_function = nn.CrossEntropyLoss()\n",
        "optimizer = optim.SGD(model.parameters(), lr=0.01, weight_decay=1e-6, momentum=0.9, nesterov=True)\n",
        "\n",
        "for epoch in range(1,11):\n",
        "\n",
        "  train_loss, valid_loss = [], []\n",
        "  model.train() # activates training mod\n",
        "\n",
        "  ## Training on 1 epoch\n",
        "  for data, target in trainloader:\n",
        "\n",
        "    data = torch.flatten(data, start_dim=1)\n",
        "\n",
        "    optimizer.zero_grad() #clears gradients of all optimized classes\n",
        "\n",
        "    ## forward pass\n",
        "    output = model(data)\n",
        "\n",
        "    ## loss calc\n",
        "    loss = loss_function(output, target)\n",
        "\n",
        "    ## backeard propagation\n",
        "    loss.backward()\n",
        "\n",
        "    ## weight optimization\n",
        "    optimizer.step() #performs a single optimization step\n",
        "    train_loss.append(loss.item())\n",
        "\n",
        "  ### Evaluation on 1 epoch\n",
        "  for data, target in validloader:\n",
        "\n",
        "    data = torch.flatten(data, start_dim=1)\n",
        "\n",
        "    output = model(data)\n",
        "    loss = loss_function(output, target)\n",
        "    valid_loss.append(loss.item())\n",
        "  \n",
        "  print(\"Epoch:\", epoch, \"Training Loss: \", np.mean(train_loss), \"Valid Loss: \", np.mean(valid_loss))"
      ],
      "execution_count": 7,
      "outputs": [
        {
          "output_type": "stream",
          "text": [
            "Epoch: 1 Training Loss:  1.4182602132254458 Valid Loss:  0.699055218950231\n",
            "Epoch: 2 Training Loss:  0.57324547938844 Valid Loss:  0.44476315315733567\n",
            "Epoch: 3 Training Loss:  0.4311267040828441 Valid Loss:  0.371635469350409\n",
            "Epoch: 4 Training Loss:  0.3762281567967953 Valid Loss:  0.33606003510191085\n",
            "Epoch: 5 Training Loss:  0.3455755773218388 Valid Loss:  0.31383199799568096\n",
            "Epoch: 6 Training Loss:  0.32484242605402114 Valid Loss:  0.29730967574931205\n",
            "Epoch: 7 Training Loss:  0.3086457291340574 Valid Loss:  0.28762583656513946\n",
            "Epoch: 8 Training Loss:  0.29576287418603897 Valid Loss:  0.2751726790311489\n",
            "Epoch: 9 Training Loss:  0.2848933809139627 Valid Loss:  0.26707785687548047\n",
            "Epoch: 10 Training Loss:  0.2744598998985392 Valid Loss:  0.2603118803272856\n"
          ],
          "name": "stdout"
        }
      ]
    },
    {
      "cell_type": "markdown",
      "metadata": {
        "id": "j_5G0MzHewg8",
        "colab_type": "text"
      },
      "source": [
        "#### Evaluation"
      ]
    },
    {
      "cell_type": "code",
      "metadata": {
        "id": "o7DHUA_wbkYI",
        "colab_type": "code",
        "outputId": "8226ad79-3165-491b-f7f4-b06b1c73ef11",
        "colab": {
          "base_uri": "https://localhost:8080/",
          "height": 141
        }
      },
      "source": [
        "## dataloader for validation dataset \n",
        "dataiter = iter(validloader)\n",
        "data, labels = dataiter.next()\n",
        "data = torch.flatten(data, start_dim=1)\n",
        "output = model(data)\n",
        "\n",
        "print(output.shape)\n",
        "print(output[0])\n",
        "\n",
        "_, pred_tensor = torch.max(output, 1)\n",
        "\n",
        "print(pred_tensor.shape)\n",
        "print(pred_tensor[0])\n",
        "\n",
        "preds = np.squeeze(pred_tensor.numpy())\n",
        "\n",
        "print(\"Actual: \", labels[:10])\n",
        "print(\"Predic: \", preds[:10])"
      ],
      "execution_count": 8,
      "outputs": [
        {
          "output_type": "stream",
          "text": [
            "torch.Size([256, 10])\n",
            "tensor([-1.2229, -2.1489,  0.5885,  1.7478, -1.7719, -0.4553, -5.7354,  8.9517,\n",
            "        -1.6335,  2.9513], grad_fn=<SelectBackward>)\n",
            "torch.Size([256])\n",
            "tensor(7)\n",
            "Actual:  tensor([7, 1, 1, 3, 1, 8, 0, 0, 2, 7])\n",
            "Predic:  [7 1 1 3 1 3 0 0 2 7]\n"
          ],
          "name": "stdout"
        }
      ]
    },
    {
      "cell_type": "markdown",
      "metadata": {
        "id": "iY07nwY8rcDg",
        "colab_type": "text"
      },
      "source": [
        "### MNIST - NN [1 GPU]"
      ]
    },
    {
      "cell_type": "code",
      "metadata": {
        "id": "ha61G2ngrbiT",
        "colab_type": "code",
        "outputId": "2ec07c9c-a241-4f1d-cb28-78f8a12daf8e",
        "colab": {
          "base_uri": "https://localhost:8080/",
          "height": 194
        }
      },
      "source": [
        "import torch\n",
        "from torch import optim\n",
        "import torch.nn as nn\n",
        "import torch.nn.functional as F\n",
        "from torchvision import transforms\n",
        "from torchvision.datasets import MNIST\n",
        "from torch.utils.data import DataLoader\n",
        "from torch.utils.data.sampler import SubsetRandomSampler\n",
        "import numpy as np\n",
        "from torch.backends import cudnn\n",
        "\n",
        "cudnn.benchmark = True\n",
        "\n",
        "# transform the raw dataset into tensors and normalize them in a fixed range\n",
        "_tasks = transforms.Compose([transforms.ToTensor(),transforms.Normalize((0.5,), (0.5,))])\n",
        "\n",
        "## Load MNIST Dataset and apply transformations\n",
        "mnist = MNIST(\"data\", download=True, train=True, transform=_tasks)\n",
        "\n",
        "## create training and validation split \n",
        "split = int(0.8 * len(mnist))\n",
        "index_list = list(range(len(mnist)))\n",
        "train_idx, valid_idx = index_list[:split], index_list[split:]\n",
        "\n",
        "## create sampler objects using SubsetRandomSampler\n",
        "tr_sampler = SubsetRandomSampler(train_idx)\n",
        "val_sampler = SubsetRandomSampler(valid_idx)\n",
        "\n",
        "## create iterator objects for train and valid datasets\n",
        "trainloader = DataLoader(mnist, batch_size=256, sampler=tr_sampler, num_workers=2)\n",
        "validloader = DataLoader(mnist, batch_size=256, sampler=val_sampler, num_workers=2)\n",
        "\n",
        "## GPU\n",
        "device = torch.device(\"cuda:0\" if torch.cuda.is_available() else \"cpu\")\n",
        "\n",
        "## Build class of model\n",
        "class Model(nn.Module):\n",
        "    def __init__(self):\n",
        "        super().__init__()\n",
        "        self.hidden = nn.Linear(784, 128)\n",
        "        self.output = nn.Linear(128, 10)\n",
        "\n",
        "    def forward(self, x):\n",
        "        x = self.hidden(x)\n",
        "        x = torch.sigmoid(x)\n",
        "        x = self.output(x)\n",
        "        return x\n",
        "\n",
        "model = Model()\n",
        "\n",
        "model.to(device)\n",
        "\n",
        "loss_function = nn.CrossEntropyLoss()\n",
        "optimizer = optim.SGD(model.parameters(), lr=0.01, weight_decay=1e-6, momentum=0.9, nesterov=True)\n",
        "\n",
        "for epoch in range(1,11):\n",
        "\n",
        "  train_loss, valid_loss = [], []\n",
        "  model.train() # activates training mod\n",
        "\n",
        "  ## Training on 1 epoch\n",
        "  for data, target in trainloader:\n",
        "\n",
        "    data = torch.flatten(data.to(device), start_dim=1)\n",
        "\n",
        "    optimizer.zero_grad() #clears gradients of all optimized classes\n",
        "\n",
        "    ## forward pass\n",
        "    output = model(data.to(device))\n",
        "\n",
        "    ## loss calc\n",
        "    loss = loss_function(output.to(device), target.to(device))\n",
        "\n",
        "    ## backeard propagation\n",
        "    loss.backward()\n",
        "\n",
        "    ## weight optimization\n",
        "    optimizer.step() #performs a single optimization step\n",
        "    train_loss.append(loss.item())\n",
        "\n",
        "  ### Evaluation on 1 epoch\n",
        "  for data, target in validloader:\n",
        "\n",
        "    data = torch.flatten(data, start_dim=1)\n",
        "\n",
        "    output = model(data.to(device))\n",
        "    loss = loss_function(output.to(device), target.to(device))\n",
        "    valid_loss.append(loss.item())\n",
        "  \n",
        "  print(\"Epoch:\", epoch, \"Training Loss: \", np.mean(train_loss), \"Valid Loss: \", np.mean(valid_loss))"
      ],
      "execution_count": 9,
      "outputs": [
        {
          "output_type": "stream",
          "text": [
            "Epoch: 1 Training Loss:  1.4097135390372986 Valid Loss:  0.6944737827524226\n",
            "Epoch: 2 Training Loss:  0.5700033706553439 Valid Loss:  0.4423278899902993\n",
            "Epoch: 3 Training Loss:  0.4285301704038965 Valid Loss:  0.36927041284581447\n",
            "Epoch: 4 Training Loss:  0.3743018922495081 Valid Loss:  0.3350196144682296\n",
            "Epoch: 5 Training Loss:  0.34516107933001317 Valid Loss:  0.31221806527452267\n",
            "Epoch: 6 Training Loss:  0.32385584664471606 Valid Loss:  0.29647792653834565\n",
            "Epoch: 7 Training Loss:  0.307615090003039 Valid Loss:  0.28435816156103255\n",
            "Epoch: 8 Training Loss:  0.29477079268148604 Valid Loss:  0.27344274330646434\n",
            "Epoch: 9 Training Loss:  0.2839543028397763 Valid Loss:  0.2663304758198718\n",
            "Epoch: 10 Training Loss:  0.2738433091088812 Valid Loss:  0.25762698815224017\n"
          ],
          "name": "stdout"
        }
      ]
    },
    {
      "cell_type": "markdown",
      "metadata": {
        "id": "Gb4m3lfy3Dbz",
        "colab_type": "text"
      },
      "source": [
        "#### Evaluation"
      ]
    },
    {
      "cell_type": "code",
      "metadata": {
        "id": "2J_sioHK3E9a",
        "colab_type": "code",
        "colab": {}
      },
      "source": [
        ""
      ],
      "execution_count": 0,
      "outputs": []
    },
    {
      "cell_type": "markdown",
      "metadata": {
        "id": "scUaqYhqvfyP",
        "colab_type": "text"
      },
      "source": [
        "### MNIST - NN [Multy GPU, Core]\n",
        "\n",
        "Specify certain GPUs"
      ]
    },
    {
      "cell_type": "code",
      "metadata": {
        "id": "vfdi1HANvi7f",
        "colab_type": "code",
        "outputId": "be83a3ce-71ae-46ad-c68d-cc43cd462edd",
        "colab": {
          "base_uri": "https://localhost:8080/",
          "height": 194
        }
      },
      "source": [
        "import os\n",
        "# os.environ[\"CUDA_VISIBLE_DEVICES\"]=\"0,1,2\" # number of gpu devices\n",
        "import torch\n",
        "from torch import optim\n",
        "import torch.nn as nn\n",
        "import torch.nn.functional as F\n",
        "from torchvision import transforms\n",
        "from torchvision.datasets import MNIST\n",
        "from torch.utils.data import DataLoader\n",
        "from torch.utils.data.sampler import SubsetRandomSampler\n",
        "import numpy as np\n",
        "from torch.backends import cudnn\n",
        "import multiprocessing\n",
        "\n",
        "cudnn.benchmark = True\n",
        "\n",
        "n_cores = multiprocessing.cpu_count()\n",
        "\n",
        "# transform the raw dataset into tensors and normalize them in a fixed range\n",
        "_tasks = transforms.Compose([transforms.ToTensor(),transforms.Normalize((0.5,), (0.5,))])\n",
        "\n",
        "## Load MNIST Dataset and apply transformations\n",
        "mnist = MNIST(\"data\", download=True, train=True, transform=_tasks)\n",
        "\n",
        "## create training and validation split \n",
        "split = int(0.8 * len(mnist))\n",
        "index_list = list(range(len(mnist)))\n",
        "train_idx, valid_idx = index_list[:split], index_list[split:]\n",
        "\n",
        "## create sampler objects using SubsetRandomSampler\n",
        "tr_sampler = SubsetRandomSampler(train_idx)\n",
        "val_sampler = SubsetRandomSampler(valid_idx)\n",
        "\n",
        "## create iterator objects for train and valid datasets\n",
        "trainloader = DataLoader(mnist, batch_size=256, sampler=tr_sampler, num_workers=n_cores)\n",
        "validloader = DataLoader(mnist, batch_size=256, sampler=val_sampler, num_workers=n_cores)\n",
        "\n",
        "## GPU\n",
        "device = torch.device(\"cuda:0\" if torch.cuda.is_available() else \"cpu\")\n",
        "\n",
        "## Build class of model\n",
        "class Model(nn.Module):\n",
        "    def __init__(self):\n",
        "        super().__init__()\n",
        "        self.hidden = nn.Linear(784, 128)\n",
        "        self.output = nn.Linear(128, 10)\n",
        "\n",
        "    def forward(self, x):\n",
        "        x = self.hidden(x)\n",
        "        x = torch.sigmoid(x)\n",
        "        x = self.output(x)\n",
        "        return x\n",
        "\n",
        "model = Model()\n",
        "\n",
        "## Multi GPU\n",
        "if torch.cuda.device_count() > 1:\n",
        "  print(\"We can use\", torch.cuda.device_count(), \"GPUs\")\n",
        "  model = nn.DataParallel(model, device_ids=[1]) # device_ids=[0,1,2] depending on the # of gpus\n",
        "\n",
        "model.to(device)\n",
        "\n",
        "loss_function = nn.CrossEntropyLoss()\n",
        "optimizer = optim.SGD(model.parameters(), lr=0.01, weight_decay=1e-6, momentum=0.9, nesterov=True)\n",
        "\n",
        "for epoch in range(1,11):\n",
        "\n",
        "  train_loss, valid_loss = [], []\n",
        "  model.train() # activates training mod\n",
        "\n",
        "  ## Training on 1 epoch\n",
        "  for data, target in trainloader:\n",
        "\n",
        "    data = torch.flatten(data.to(device), start_dim=1)\n",
        "\n",
        "    optimizer.zero_grad() #clears gradients of all optimized classes\n",
        "\n",
        "    ## forward pass\n",
        "    output = model(data.to(device))\n",
        "\n",
        "    ## loss calc\n",
        "    loss = loss_function(output.to(device), target.to(device))\n",
        "\n",
        "    ## backeard propagation\n",
        "    loss.backward()\n",
        "\n",
        "    ## weight optimization\n",
        "    optimizer.step() #performs a single optimization step\n",
        "    train_loss.append(loss.item())\n",
        "\n",
        "  ### Evaluation on 1 epoch\n",
        "  for data, target in validloader:\n",
        "\n",
        "    data = torch.flatten(data, start_dim=1)\n",
        "\n",
        "    output = model(data.to(device))\n",
        "    loss = loss_function(output.to(device), target.to(device))\n",
        "    valid_loss.append(loss.item())\n",
        "  \n",
        "  print(\"Epoch:\", epoch, \"Training Loss: \", np.mean(train_loss), \"Valid Loss: \", np.mean(valid_loss))"
      ],
      "execution_count": 10,
      "outputs": [
        {
          "output_type": "stream",
          "text": [
            "Epoch: 1 Training Loss:  1.4160236174121816 Valid Loss:  0.7035221787209206\n",
            "Epoch: 2 Training Loss:  0.5761646563385395 Valid Loss:  0.4498079330363172\n",
            "Epoch: 3 Training Loss:  0.4343532992804304 Valid Loss:  0.37484663344444114\n",
            "Epoch: 4 Training Loss:  0.3792155794006713 Valid Loss:  0.3402580029152809\n",
            "Epoch: 5 Training Loss:  0.3478186359589404 Valid Loss:  0.31523533323977854\n",
            "Epoch: 6 Training Loss:  0.3260815628665559 Valid Loss:  0.300622931820281\n",
            "Epoch: 7 Training Loss:  0.3104622558234854 Valid Loss:  0.28752252301003073\n",
            "Epoch: 8 Training Loss:  0.2970064908583113 Valid Loss:  0.27725158853733795\n",
            "Epoch: 9 Training Loss:  0.28619012426822743 Valid Loss:  0.2696801703026954\n",
            "Epoch: 10 Training Loss:  0.2766001538393345 Valid Loss:  0.2605013834669235\n"
          ],
          "name": "stdout"
        }
      ]
    },
    {
      "cell_type": "markdown",
      "metadata": {
        "id": "dvTbQmso2_VR",
        "colab_type": "text"
      },
      "source": [
        "#### Evaluation"
      ]
    },
    {
      "cell_type": "code",
      "metadata": {
        "id": "dqB5jqTv3BcY",
        "colab_type": "code",
        "colab": {}
      },
      "source": [
        ""
      ],
      "execution_count": 0,
      "outputs": []
    },
    {
      "cell_type": "markdown",
      "metadata": {
        "id": "8Wy3zgHCy7Ot",
        "colab_type": "text"
      },
      "source": [
        "### MNIST CNN [Multy GPU, Core]"
      ]
    },
    {
      "cell_type": "code",
      "metadata": {
        "id": "uJUm3qjvBfFe",
        "colab_type": "code",
        "outputId": "43240602-f66d-4358-8797-c6dce9d1c7b0",
        "colab": {
          "base_uri": "https://localhost:8080/",
          "height": 194
        }
      },
      "source": [
        "import os\n",
        "import torch\n",
        "from torch import optim\n",
        "import torch.nn as nn\n",
        "import torch.nn.functional as F\n",
        "from torchvision import transforms\n",
        "from torchvision.datasets import MNIST\n",
        "from torch.utils.data import DataLoader\n",
        "from torch.utils.data.sampler import SubsetRandomSampler\n",
        "from torch.backends import cudnn\n",
        "import numpy as np\n",
        "import multiprocessing\n",
        "from sklearn.metrics import accuracy_score\n",
        "\n",
        "cudnn.benchmark = True\n",
        "\n",
        "num_cores = multiprocessing.cpu_count()\n",
        "\n",
        "# transform the raw dataset into tensors and normalize them in a fixed range\n",
        "_tasks = transforms.Compose([transforms.ToTensor(), transforms.Normalize((0.5,), (0.5,))])\n",
        "\n",
        "## Load MNIST Dataset and apply transformations\n",
        "mnist = MNIST(\"data\", download=True, train=True, transform=_tasks)\n",
        "\n",
        "## create training and validation split \n",
        "split_train = int(0.7 * len(mnist))\n",
        "split_valid = split_train + int(0.1 * len(mnist))\n",
        "index_list = list(range(len(mnist)))\n",
        "train_idx, valid_idx, test_idx = index_list[:split_train], index_list[split_train:split_valid], index_list[split_valid:]\n",
        "\n",
        "## create sampler objects using SubsetRandomSampler\n",
        "tr_sampler = SubsetRandomSampler(train_idx)\n",
        "val_sampler = SubsetRandomSampler(valid_idx)\n",
        "tes_sampler = SubsetRandomSampler(test_idx)\n",
        "\n",
        "## create iterator objects for train and valid datasets\n",
        "trainloader = DataLoader(mnist, batch_size=256, sampler=tr_sampler, num_workers=num_cores)\n",
        "validloader = DataLoader(mnist, batch_size=256, sampler=val_sampler, num_workers=num_cores)\n",
        "testloader = DataLoader(mnist, batch_size=10, sampler=tes_sampler, num_workers=num_cores)\n",
        "\n",
        "## GPU\n",
        "device = torch.device(\"cuda:0\" if torch.cuda.is_available() else \"cpu\")\n",
        "\n",
        "## Build class of model\n",
        "class Model(nn.Module):\n",
        "  def __init__(self):\n",
        "    super(Model, self).__init__()\n",
        "    \n",
        "    ## define layers\n",
        "    self.conv1 = nn.Conv2d(1, 16, 3, padding=1)\n",
        "    self.conv2 = nn.Conv2d(16, 32, 3, padding=1)\n",
        "    self.conv3 = nn.Conv2d(32, 64, 3, padding=1)\n",
        "    self.pool = nn.MaxPool2d(kernel_size=2, stride=2)\n",
        "    self.linear1 = nn.Linear(64*3*3, 512)\n",
        "    self.linear2 = nn.Linear(512,10)\n",
        "    \n",
        "    return\n",
        "\n",
        "  def forward(self, x):\n",
        "    x = self.pool(F.relu(self.conv1(x)))\n",
        "    x = self.pool(F.relu(self.conv2(x)))\n",
        "    x = self.pool(F.relu(self.conv3(x)))\n",
        "    x = x.view(-1,64*3*3) #torch.flatten(x, start_dim=1) ## reshaping\n",
        "    x = F.relu(self.linear1(x))\n",
        "    x = self.linear2(x)\n",
        "\n",
        "    return x\n",
        "\n",
        "## create model\n",
        "model = Model()\n",
        "\n",
        "## in case of multi gpu\n",
        "if torch.cuda.device_count() > 1:\n",
        "  print(\"Using\", torch.cuda.device_count(), \"GPUs\")\n",
        "  model = nn.DataParallel(model, device_ids=[1]) # [0,1,2,3]\n",
        "\n",
        "## put model on gpu\n",
        "model.to(device)\n",
        "\n",
        "## loss fucntion\n",
        "loss_function = nn.CrossEntropyLoss()\n",
        "## optimizer\n",
        "optimizer = optim.SGD(model.parameters(), lr=0.01, weight_decay=1e-6, momentum=0.9, nesterov=True)\n",
        "## run for n epochs\n",
        "for epoch in range(1,11):\n",
        "  train_loss , valid_loss = [], []\n",
        "\n",
        "  ## train part\n",
        "  model.train()\n",
        "  for data, target in trainloader:\n",
        "    ## gradients acumulate. need to clear them on each example\n",
        "    optimizer.zero_grad()\n",
        "    output = model(data.to(device))\n",
        "    loss = loss_function(output.to(device), target.to(device))\n",
        "    loss.backward()\n",
        "    optimizer.step()\n",
        "    train_loss.append(loss.item())\n",
        "\n",
        "  ## evaluation part on validation\n",
        "  model.eval() ##set model in evaluation mode\n",
        "  for data, target in validloader:\n",
        "    output = model(data.to(device))\n",
        "    loss = loss_function(output.to(device), target.to(device))\n",
        "    valid_loss.append(loss.item())\n",
        "\n",
        "  print(\"Epoch:\", epoch, \"Training Loss: \", np.mean(train_loss), \"Valid Loss: \", np.mean(valid_loss))"
      ],
      "execution_count": 11,
      "outputs": [
        {
          "output_type": "stream",
          "text": [
            "Epoch: 1 Training Loss:  1.4049706922336058 Valid Loss:  0.7877426892518997\n",
            "Epoch: 2 Training Loss:  0.1534272958834966 Valid Loss:  0.1276818998157978\n",
            "Epoch: 3 Training Loss:  0.08695878804181562 Valid Loss:  0.13764395285397768\n",
            "Epoch: 4 Training Loss:  0.06591612339922875 Valid Loss:  0.0927470267439882\n",
            "Epoch: 5 Training Loss:  0.05474590759611491 Valid Loss:  0.07778087941308816\n",
            "Epoch: 6 Training Loss:  0.046875652998234284 Valid Loss:  0.07238113041967154\n",
            "Epoch: 7 Training Loss:  0.04052448337051001 Valid Loss:  0.06849378650076687\n",
            "Epoch: 8 Training Loss:  0.03585321864846981 Valid Loss:  0.0661202745201687\n",
            "Epoch: 9 Training Loss:  0.03236920830201019 Valid Loss:  0.05829143252534171\n",
            "Epoch: 10 Training Loss:  0.029536526610679698 Valid Loss:  0.05339367943815887\n"
          ],
          "name": "stdout"
        }
      ]
    },
    {
      "cell_type": "markdown",
      "metadata": {
        "id": "hJZJLvwgsUrq",
        "colab_type": "text"
      },
      "source": [
        "#### Evaluation"
      ]
    },
    {
      "cell_type": "code",
      "metadata": {
        "id": "eSRiJuEPsW0x",
        "colab_type": "code",
        "outputId": "b8702aa7-edc7-4073-8d54-434d129fed81",
        "colab": {
          "base_uri": "https://localhost:8080/",
          "height": 34
        }
      },
      "source": [
        "model.eval()\n",
        "\n",
        "y_pred, y_true = [], []\n",
        "\n",
        "for data, target in testloader:\n",
        "  predicted = model(data.to(device))\n",
        "  _, predicted = torch.max(predicted.cpu(), 1)\n",
        "  y_pred += predicted.tolist()\n",
        "  y_true += target.tolist()\n",
        "\n",
        "print(\"Accuracy: \", accuracy_score(y_pred, y_true))"
      ],
      "execution_count": 12,
      "outputs": [
        {
          "output_type": "stream",
          "text": [
            "Accuracy:  0.9875833333333334\n"
          ],
          "name": "stdout"
        }
      ]
    },
    {
      "cell_type": "markdown",
      "metadata": {
        "id": "pLsU972v4EvB",
        "colab_type": "text"
      },
      "source": [
        "### Sentiment Classification"
      ]
    },
    {
      "cell_type": "markdown",
      "metadata": {
        "id": "yuyc1nb2A1Ke",
        "colab_type": "text"
      },
      "source": [
        "#### Download Data"
      ]
    },
    {
      "cell_type": "code",
      "metadata": {
        "id": "Cyuwl8oo43OQ",
        "colab_type": "code",
        "colab": {
          "base_uri": "https://localhost:8080/",
          "height": 34
        },
        "outputId": "77650716-de97-46af-ebcb-36bf15785052"
      },
      "source": [
        "from IPython.display import clear_output\n",
        "\n",
        "!wget http://ai.stanford.edu/~amaas/data/sentiment/aclImdb_v1.tar.gz\n",
        "clear_output(wait=True)\n",
        "\n",
        "!gunzip aclImdb_v1.tar.gz\n",
        "clear_output(wait=True)\n",
        "\n",
        "!tar -xvf aclImdb_v1.tar\n",
        "clear_output(wait=True)\n",
        "\n",
        "!ls"
      ],
      "execution_count": 13,
      "outputs": [
        {
          "output_type": "stream",
          "text": [
            "aclImdb  aclImdb_v1.tar  data  sample_data\n"
          ],
          "name": "stdout"
        }
      ]
    },
    {
      "cell_type": "markdown",
      "metadata": {
        "id": "A6yQKeyZBv05",
        "colab_type": "text"
      },
      "source": [
        "#### Import"
      ]
    },
    {
      "cell_type": "code",
      "metadata": {
        "id": "HFmoyx-8BxcB",
        "colab_type": "code",
        "outputId": "1d3a824d-9f9d-4bbd-d240-b15f23a78942",
        "colab": {
          "base_uri": "https://localhost:8080/",
          "height": 52
        }
      },
      "source": [
        "## Load TF 2.0\n",
        "try:\n",
        "  # %tensorflow_version only exists in Colab.\n",
        "  %tensorflow_version 2.x\n",
        "except Exception:\n",
        "  pass\n",
        "  \n",
        "import os\n",
        "from os import listdir\n",
        "from os.path import isfile, join\n",
        "import torch\n",
        "from torch import optim\n",
        "import torch.nn as nn\n",
        "import torch.nn.functional as F\n",
        "from torchvision import transforms\n",
        "from torch.utils.data import DataLoader, Dataset\n",
        "from torch.utils.data.sampler import SubsetRandomSampler\n",
        "from torch.backends import cudnn\n",
        "import tensorflow as tf\n",
        "import numpy as np\n",
        "import multiprocessing\n",
        "from keras.preprocessing.text import Tokenizer\n",
        "from keras.preprocessing.sequence import pad_sequences\n",
        "\n",
        "num_cores = multiprocessing.cpu_count()"
      ],
      "execution_count": 14,
      "outputs": [
        {
          "output_type": "stream",
          "text": [
            "TensorFlow 2.x selected.\n"
          ],
          "name": "stdout"
        },
        {
          "output_type": "stream",
          "text": [
            "Using TensorFlow backend.\n"
          ],
          "name": "stderr"
        }
      ]
    },
    {
      "cell_type": "markdown",
      "metadata": {
        "id": "zqMBCcSBBxqS",
        "colab_type": "text"
      },
      "source": [
        "#### Data Loader"
      ]
    },
    {
      "cell_type": "code",
      "metadata": {
        "id": "OxmgmfNbB00E",
        "colab_type": "code",
        "colab": {}
      },
      "source": [
        "train_pos_path = \"/content/aclImdb/train/pos/\"\n",
        "train_neg_path = \"/content/aclImdb/train/neg/\"\n",
        "\n",
        "test_pos_path = \"/content/aclImdb/test/pos/\"\n",
        "test_neg_path = \"/content/aclImdb/test/neg/\"\n",
        "\n"
      ],
      "execution_count": 0,
      "outputs": []
    },
    {
      "cell_type": "code",
      "metadata": {
        "id": "cqkArXC_Df_s",
        "colab_type": "code",
        "colab": {}
      },
      "source": [
        "class ImdbMovieDataset(Dataset):\n",
        "\n",
        "  def __init__(self, pos_path, neg_path, maxlen=100, text_tokenizer=None):\n",
        "    \"\"\"\n",
        "    Args:\n",
        "\n",
        "    \"\"\"\n",
        "    self.pos_path = pos_path\n",
        "    self.neg_path = neg_path\n",
        "    self.pos_files = [file_name[:-4] for file_name in self.get_files(self.pos_path)]\n",
        "    self.neg_files = [file_name[:-4] for file_name in self.get_files(self.neg_path)]\n",
        "    self.n_pos_files = len(self.pos_files)\n",
        "    self.n_neg_files = len(self.neg_files)\n",
        "    self.maxlen = maxlen\n",
        "    if text_tokenizer:\n",
        "      self.text_tokenizer = text_tokenizer\n",
        "    else:\n",
        "      self.text_tokenizer = self.fit_tokenizer()\n",
        "    return\n",
        "\n",
        "\n",
        "  def __len__(self):\n",
        "    return (self.n_pos_files + self.n_neg_files)\n",
        "\n",
        "\n",
        "  def __getitem__(self, idx):\n",
        "    if idx < self.n_pos_files:\n",
        "      ## positive review\n",
        "      path = self.pos_path + self.pos_files[idx]\n",
        "      y = 1\n",
        "    else:\n",
        "      ## negative review\n",
        "      path = self.neg_path + self.neg_files[idx - self.n_pos_files]\n",
        "      y = 0\n",
        "    review = self.read_file(path)\n",
        "    X = self.text_tokenizer.texts_to_sequences([review])\n",
        "    X = pad_sequences(sequences=X, \n",
        "                      maxlen=self.maxlen, \n",
        "                      padding='post', \n",
        "                      truncating='post')[0]\n",
        "\n",
        "    return torch.tensor(X), torch.tensor(y)\n",
        "\n",
        "  def get_files(self, path):\n",
        "    return [f for f in listdir(path) if isfile(join(path, f))]\n",
        "\n",
        "  def read_file(self, path):\n",
        "    with open(path + '.txt', 'r') as raw_file:\n",
        "      content_file = raw_file.read()\n",
        "    return content_file\n",
        "\n",
        "  def fit_tokenizer(self):\n",
        "    tmp_tokenizer = Tokenizer(num_words=None,\n",
        "                      lower=True,\n",
        "                      oov_token='<UNK>')\n",
        "    print(\"Positive file fit Tokenizer\")\n",
        "    for pos_file in self.pos_files[:50]:\n",
        "      tmp_tokenizer.fit_on_texts([self.read_file(self.pos_path + pos_file)])\n",
        "\n",
        "    print(\"Negative file fit Tokenizer\")\n",
        "    for neg_file in self.neg_files[:50]:\n",
        "      tmp_tokenizer.fit_on_texts([self.read_file(self.neg_path + neg_file)])\n",
        "    return tmp_tokenizer"
      ],
      "execution_count": 0,
      "outputs": []
    },
    {
      "cell_type": "code",
      "metadata": {
        "id": "hQ5hClFgQO4Y",
        "colab_type": "code",
        "outputId": "2eb83f36-5ad0-4b05-e290-ef1f0d607359",
        "colab": {
          "base_uri": "https://localhost:8080/",
          "height": 52
        }
      },
      "source": [
        "## data generator parameters\n",
        "data_generator_parameters = {'batch_size': 64,\n",
        "                             'shuffle': True,\n",
        "                             'num_workers': num_cores}\n",
        "\n",
        "training_set = ImdbMovieDataset(pos_path=train_pos_path,\n",
        "                              neg_path=train_neg_path)"
      ],
      "execution_count": 17,
      "outputs": [
        {
          "output_type": "stream",
          "text": [
            "Positive file fit Tokenizer\n",
            "Negative file fit Tokenizer\n"
          ],
          "name": "stdout"
        }
      ]
    },
    {
      "cell_type": "code",
      "metadata": {
        "id": "JKZ355GxSPzc",
        "colab_type": "code",
        "outputId": "3fc99216-71c9-47d0-b409-fc6a9a81ea23",
        "colab": {
          "base_uri": "https://localhost:8080/",
          "height": 214
        }
      },
      "source": [
        "training_generator = DataLoader(training_set, **data_generator_parameters)\n",
        "\n",
        "for local_batch, local_label in training_generator:\n",
        "  print(local_batch, local_label)\n",
        "  print(np.shape(local_label))\n",
        "  break"
      ],
      "execution_count": 18,
      "outputs": [
        {
          "output_type": "stream",
          "text": [
            "tensor([[ 458,    8,    4,  ...,   73,  277,    1],\n",
            "        [  45,   26,   29,  ...,   78, 4510,   26],\n",
            "        [  48,   22,   46,  ...,    6,   25,    1],\n",
            "        ...,\n",
            "        [ 245,    1,    1,  ...,    1,   23,    2],\n",
            "        [  10,  304,   13,  ..., 1976,  959,   41],\n",
            "        [   1,   10,   54,  ...,   70,    9, 1124]], dtype=torch.int32) tensor([1, 1, 1, 1, 1, 0, 1, 0, 1, 0, 1, 1, 1, 1, 1, 0, 0, 0, 1, 0, 1, 1, 0, 0,\n",
            "        1, 1, 0, 0, 1, 1, 1, 1, 1, 0, 1, 1, 1, 0, 0, 1, 1, 1, 0, 0, 0, 0, 0, 1,\n",
            "        0, 1, 0, 1, 1, 1, 1, 1, 0, 0, 1, 1, 1, 0, 1, 1])\n",
            "torch.Size([64])\n"
          ],
          "name": "stdout"
        }
      ]
    },
    {
      "cell_type": "code",
      "metadata": {
        "id": "4kb5gAfhN0Vm",
        "colab_type": "code",
        "outputId": "f69e1236-1b03-47c8-ce2d-fbcb90dc247f",
        "colab": {
          "base_uri": "https://localhost:8080/",
          "height": 34
        }
      },
      "source": [
        "torch.tensor(training_set.text_tokenizer.texts_to_sequences([\"this is me, not you\"]), dtype=torch.long)"
      ],
      "execution_count": 19,
      "outputs": [
        {
          "output_type": "execute_result",
          "data": {
            "text/plain": [
              "tensor([[13,  8, 70, 22, 26]])"
            ]
          },
          "metadata": {
            "tags": []
          },
          "execution_count": 19
        }
      ]
    }
  ]
}