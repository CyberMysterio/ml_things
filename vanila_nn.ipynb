{
  "nbformat": 4,
  "nbformat_minor": 0,
  "metadata": {
    "colab": {
      "name": "vanila_nn.ipynb",
      "version": "0.3.2",
      "provenance": [],
      "collapsed_sections": []
    }
  },
  "cells": [
    {
      "cell_type": "markdown",
      "metadata": {
        "id": "view-in-github",
        "colab_type": "text"
      },
      "source": [
        "[View in Colaboratory](https://colab.research.google.com/github/gmihaila/toy_models/blob/master/vanila_nn.ipynb)"
      ]
    },
    {
      "metadata": {
        "id": "17LH2G9SZxgF",
        "colab_type": "text"
      },
      "cell_type": "markdown",
      "source": [
        "## Vanila Neural Network\n",
        "\n",
        "### Simple implementation to play around and modify\n",
        "\n",
        "by GeorgeM."
      ]
    },
    {
      "metadata": {
        "id": "Jgf-S2NfZnbP",
        "colab_type": "code",
        "colab": {
          "base_uri": "https://localhost:8080/",
          "height": 204
        },
        "outputId": "305f8632-f8ec-4bfd-c5c2-e61715c3a0a5"
      },
      "cell_type": "code",
      "source": [
        "!wget https://raw.githubusercontent.com/jbrownlee/Datasets/master/pima-indians-diabetes.data.csv"
      ],
      "execution_count": 1,
      "outputs": [
        {
          "output_type": "stream",
          "text": [
            "--2018-05-25 22:24:45--  https://raw.githubusercontent.com/jbrownlee/Datasets/master/pima-indians-diabetes.data.csv\r\n",
            "Resolving raw.githubusercontent.com (raw.githubusercontent.com)... 151.101.32.133\n",
            "Connecting to raw.githubusercontent.com (raw.githubusercontent.com)|151.101.32.133|:443... connected.\n",
            "HTTP request sent, awaiting response... 200 OK\n",
            "Length: 23278 (23K) [text/plain]\n",
            "Saving to: ‘pima-indians-diabetes.data.csv’\n",
            "\n",
            "pima-indians-diabet 100%[===================>]  22.73K  --.-KB/s    in 0.01s   \n",
            "\n",
            "2018-05-25 22:24:45 (1.60 MB/s) - ‘pima-indians-diabetes.data.csv’ saved [23278/23278]\n",
            "\n"
          ],
          "name": "stdout"
        }
      ]
    },
    {
      "metadata": {
        "id": "2efyUH6RfM19",
        "colab_type": "code",
        "colab": {
          "base_uri": "https://localhost:8080/",
          "height": 1989
        },
        "outputId": "f8f52012-5cd7-4a36-ca3e-f3430ee2ab3a"
      },
      "cell_type": "code",
      "source": [
        "# Install pydot\n",
        "!apt-get -qq install -y graphviz && pip install -q pydot"
      ],
      "execution_count": 24,
      "outputs": [
        {
          "output_type": "stream",
          "text": [
            "Selecting previously unselected package fontconfig.\n",
            "(Reading database ... 18298 files and directories currently installed.)\n",
            "Preparing to unpack .../00-fontconfig_2.11.94-0ubuntu2_amd64.deb ...\n",
            "Unpacking fontconfig (2.11.94-0ubuntu2) ...\n",
            "Selecting previously unselected package libjbig0:amd64.\n",
            "Preparing to unpack .../01-libjbig0_2.1-3.1_amd64.deb ...\n",
            "Unpacking libjbig0:amd64 (2.1-3.1) ...\n",
            "Selecting previously unselected package libcdt5.\n",
            "Preparing to unpack .../02-libcdt5_2.38.0-16ubuntu2_amd64.deb ...\n",
            "Unpacking libcdt5 (2.38.0-16ubuntu2) ...\n",
            "Selecting previously unselected package libcgraph6.\n",
            "Preparing to unpack .../03-libcgraph6_2.38.0-16ubuntu2_amd64.deb ...\n",
            "Unpacking libcgraph6 (2.38.0-16ubuntu2) ...\n",
            "Selecting previously unselected package libtiff5:amd64.\n",
            "Preparing to unpack .../04-libtiff5_4.0.8-5ubuntu0.1_amd64.deb ...\n",
            "Unpacking libtiff5:amd64 (4.0.8-5ubuntu0.1) ...\n",
            "Selecting previously unselected package libwebp6:amd64.\n",
            "Preparing to unpack .../05-libwebp6_0.6.0-3_amd64.deb ...\n",
            "Unpacking libwebp6:amd64 (0.6.0-3) ...\n",
            "Selecting previously unselected package libxpm4:amd64.\n",
            "Preparing to unpack .../06-libxpm4_1%3a3.5.12-1_amd64.deb ...\n",
            "Unpacking libxpm4:amd64 (1:3.5.12-1) ...\n",
            "Selecting previously unselected package libgd3:amd64.\n",
            "Preparing to unpack .../07-libgd3_2.2.5-3_amd64.deb ...\n",
            "Unpacking libgd3:amd64 (2.2.5-3) ...\n",
            "Selecting previously unselected package libpixman-1-0:amd64.\n",
            "Preparing to unpack .../08-libpixman-1-0_0.34.0-1_amd64.deb ...\n",
            "Unpacking libpixman-1-0:amd64 (0.34.0-1) ...\n",
            "Selecting previously unselected package libxcb-render0:amd64.\n",
            "Preparing to unpack .../09-libxcb-render0_1.12-1ubuntu1_amd64.deb ...\n",
            "Unpacking libxcb-render0:amd64 (1.12-1ubuntu1) ...\n",
            "Selecting previously unselected package libxcb-shm0:amd64.\n",
            "Preparing to unpack .../10-libxcb-shm0_1.12-1ubuntu1_amd64.deb ...\n",
            "Unpacking libxcb-shm0:amd64 (1.12-1ubuntu1) ...\n",
            "Selecting previously unselected package libcairo2:amd64.\n",
            "Preparing to unpack .../11-libcairo2_1.14.10-1ubuntu1_amd64.deb ...\n",
            "Unpacking libcairo2:amd64 (1.14.10-1ubuntu1) ...\n",
            "Selecting previously unselected package libltdl7:amd64.\n",
            "Preparing to unpack .../12-libltdl7_2.4.6-2_amd64.deb ...\n",
            "Unpacking libltdl7:amd64 (2.4.6-2) ...\n",
            "Selecting previously unselected package libthai-data.\n",
            "Preparing to unpack .../13-libthai-data_0.1.26-3_all.deb ...\n",
            "Unpacking libthai-data (0.1.26-3) ...\n",
            "Selecting previously unselected package libdatrie1:amd64.\n",
            "Preparing to unpack .../14-libdatrie1_0.2.10-5_amd64.deb ...\n",
            "Unpacking libdatrie1:amd64 (0.2.10-5) ...\n",
            "Selecting previously unselected package libthai0:amd64.\n",
            "Preparing to unpack .../15-libthai0_0.1.26-3_amd64.deb ...\n",
            "Unpacking libthai0:amd64 (0.1.26-3) ...\n",
            "Selecting previously unselected package libpango-1.0-0:amd64.\n",
            "Preparing to unpack .../16-libpango-1.0-0_1.40.12-1_amd64.deb ...\n",
            "Unpacking libpango-1.0-0:amd64 (1.40.12-1) ...\n",
            "Selecting previously unselected package libgraphite2-3:amd64.\n",
            "Preparing to unpack .../17-libgraphite2-3_1.3.10-2_amd64.deb ...\n",
            "Unpacking libgraphite2-3:amd64 (1.3.10-2) ...\n",
            "Selecting previously unselected package libharfbuzz0b:amd64.\n",
            "Preparing to unpack .../18-libharfbuzz0b_1.4.2-1_amd64.deb ...\n",
            "Unpacking libharfbuzz0b:amd64 (1.4.2-1) ...\n",
            "Selecting previously unselected package libpangoft2-1.0-0:amd64.\n",
            "Preparing to unpack .../19-libpangoft2-1.0-0_1.40.12-1_amd64.deb ...\n",
            "Unpacking libpangoft2-1.0-0:amd64 (1.40.12-1) ...\n",
            "Selecting previously unselected package libpangocairo-1.0-0:amd64.\n",
            "Preparing to unpack .../20-libpangocairo-1.0-0_1.40.12-1_amd64.deb ...\n",
            "Unpacking libpangocairo-1.0-0:amd64 (1.40.12-1) ...\n",
            "Selecting previously unselected package libpathplan4.\n",
            "Preparing to unpack .../21-libpathplan4_2.38.0-16ubuntu2_amd64.deb ...\n",
            "Unpacking libpathplan4 (2.38.0-16ubuntu2) ...\n",
            "Selecting previously unselected package libgvc6.\n",
            "Preparing to unpack .../22-libgvc6_2.38.0-16ubuntu2_amd64.deb ...\n",
            "Unpacking libgvc6 (2.38.0-16ubuntu2) ...\n",
            "Selecting previously unselected package libgvpr2.\n",
            "Preparing to unpack .../23-libgvpr2_2.38.0-16ubuntu2_amd64.deb ...\n",
            "Unpacking libgvpr2 (2.38.0-16ubuntu2) ...\n",
            "Selecting previously unselected package libxt6:amd64.\n",
            "Preparing to unpack .../24-libxt6_1%3a1.1.5-1_amd64.deb ...\n",
            "Unpacking libxt6:amd64 (1:1.1.5-1) ...\n",
            "Selecting previously unselected package libxmu6:amd64.\n",
            "Preparing to unpack .../25-libxmu6_2%3a1.1.2-2_amd64.deb ...\n",
            "Unpacking libxmu6:amd64 (2:1.1.2-2) ...\n",
            "Selecting previously unselected package libxaw7:amd64.\n",
            "Preparing to unpack .../26-libxaw7_2%3a1.0.13-1_amd64.deb ...\n",
            "Unpacking libxaw7:amd64 (2:1.0.13-1) ...\n",
            "Selecting previously unselected package graphviz.\n",
            "Preparing to unpack .../27-graphviz_2.38.0-16ubuntu2_amd64.deb ...\n",
            "Unpacking graphviz (2.38.0-16ubuntu2) ...\n"
          ],
          "name": "stdout"
        },
        {
          "output_type": "stream",
          "text": [
            "Setting up libpathplan4 (2.38.0-16ubuntu2) ...\n",
            "Setting up libxcb-render0:amd64 (1.12-1ubuntu1) ...\n",
            "Setting up libjbig0:amd64 (2.1-3.1) ...\n",
            "Setting up libdatrie1:amd64 (0.2.10-5) ...\n",
            "Setting up libtiff5:amd64 (4.0.8-5ubuntu0.1) ...\n",
            "Setting up libgraphite2-3:amd64 (1.3.10-2) ...\n",
            "Setting up libpixman-1-0:amd64 (0.34.0-1) ...\n",
            "Processing triggers for libc-bin (2.26-0ubuntu2.1) ...\n",
            "Setting up libltdl7:amd64 (2.4.6-2) ...\n",
            "Setting up libxcb-shm0:amd64 (1.12-1ubuntu1) ...\n",
            "Setting up libxpm4:amd64 (1:3.5.12-1) ...\n",
            "Setting up libxt6:amd64 (1:1.1.5-1) ...\n",
            "Setting up libthai-data (0.1.26-3) ...\n",
            "Setting up libcdt5 (2.38.0-16ubuntu2) ...\n",
            "Setting up fontconfig (2.11.94-0ubuntu2) ...\n",
            "Regenerating fonts cache... done.\n",
            "Setting up libcgraph6 (2.38.0-16ubuntu2) ...\n",
            "Setting up libwebp6:amd64 (0.6.0-3) ...\n",
            "Setting up libcairo2:amd64 (1.14.10-1ubuntu1) ...\n",
            "Setting up libgvpr2 (2.38.0-16ubuntu2) ...\n",
            "Setting up libgd3:amd64 (2.2.5-3) ...\n",
            "Setting up libharfbuzz0b:amd64 (1.4.2-1) ...\n",
            "Setting up libthai0:amd64 (0.1.26-3) ...\n",
            "Setting up libxmu6:amd64 (2:1.1.2-2) ...\n",
            "Setting up libpango-1.0-0:amd64 (1.40.12-1) ...\n",
            "Setting up libxaw7:amd64 (2:1.0.13-1) ...\n",
            "Setting up libpangoft2-1.0-0:amd64 (1.40.12-1) ...\n",
            "Setting up libpangocairo-1.0-0:amd64 (1.40.12-1) ...\n",
            "Setting up libgvc6 (2.38.0-16ubuntu2) ...\n",
            "Setting up graphviz (2.38.0-16ubuntu2) ...\n",
            "Processing triggers for libc-bin (2.26-0ubuntu2.1) ...\n"
          ],
          "name": "stdout"
        }
      ]
    },
    {
      "metadata": {
        "id": "FKChHKmWZ3hO",
        "colab_type": "code",
        "colab": {
          "base_uri": "https://localhost:8080/",
          "height": 34
        },
        "outputId": "665cdf66-2a37-40fd-bc78-999b0456e4dd"
      },
      "cell_type": "code",
      "source": [
        "import numpy as np\n",
        "import pandas as pd\n",
        "\n",
        "from keras.layers import Input, Dense\n",
        "from keras.models import Model\n",
        "from keras.utils.vis_utils import plot_model\n",
        "\n",
        "from IPython.display import Image"
      ],
      "execution_count": 2,
      "outputs": [
        {
          "output_type": "stream",
          "text": [
            "Using TensorFlow backend.\n"
          ],
          "name": "stderr"
        }
      ]
    },
    {
      "metadata": {
        "id": "MuPFye1YaGsm",
        "colab_type": "code",
        "colab": {
          "base_uri": "https://localhost:8080/",
          "height": 51
        },
        "outputId": "d734bebe-e34d-4e13-a861-fc18181cd6dc"
      },
      "cell_type": "code",
      "source": [
        "# Parse data\n",
        "path_file = 'pima-indians-diabetes.data.csv'\n",
        "\n",
        "df = pd.read_csv(path_file, header=None)\n",
        "data = np.array(df.values, dtype=float)\n",
        "\n",
        "x = data[:,:8]  # fist 8 columns\n",
        "y = data[:,8]   # last column\n",
        "\n",
        "print('x shape: ',x.shape)\n",
        "print('y shape: ',y.shape)"
      ],
      "execution_count": 3,
      "outputs": [
        {
          "output_type": "stream",
          "text": [
            "('x shape: ', (768, 8))\n",
            "('y shape: ', (768,))\n"
          ],
          "name": "stdout"
        }
      ]
    },
    {
      "metadata": {
        "id": "2vPnufPLay7O",
        "colab_type": "code",
        "colab": {}
      },
      "cell_type": "code",
      "source": [
        "# build model\n",
        "\n",
        "n_input = 8  # number of inputs\n",
        "n_output = 1 # number of outputs\n",
        "\n",
        "# build each layer\n",
        "model_input = Input(shape=(n_input,), name='INPUT')\n",
        "model_layer1 = Dense(units=8, activation='relu', name='DENSE1')(model_input)\n",
        "model_output = Dense(units=1, activation='sigmoid', name='OUTPUT')(model_layer1)\n",
        "# assemble model\n",
        "model = Model([model_input], model_output)\n",
        "# compile model\n",
        "model.compile(loss='binary_crossentropy', optimizer='adam', metrics=['accuracy'])"
      ],
      "execution_count": 0,
      "outputs": []
    },
    {
      "metadata": {
        "id": "0a8XLsAxepwg",
        "colab_type": "code",
        "colab": {
          "base_uri": "https://localhost:8080/",
          "height": 272
        },
        "outputId": "667b3d4d-8b4e-4e98-b13d-7335165952fa"
      },
      "cell_type": "code",
      "source": [
        "# image model\n",
        "plot_model(model, to_file='model.png')\n",
        "Image('model.png')"
      ],
      "execution_count": 5,
      "outputs": [
        {
          "output_type": "execute_result",
          "data": {
            "image/png": "[encoded data removed]",
            "text/plain": [
              "<IPython.core.display.Image object>"
            ]
          },
          "metadata": {
            "tags": []
          },
          "execution_count": 5
        }
      ]
    },
    {
      "metadata": {
        "id": "ZFDsNC8xgBlg",
        "colab_type": "code",
        "colab": {
          "base_uri": "https://localhost:8080/",
          "height": 5154
        },
        "outputId": "5a9a55e8-fe6b-47d0-ff4f-a7a2033878c3"
      },
      "cell_type": "code",
      "source": [
        "# fit model\n",
        "model.fit(x, y, epochs=150, batch_size=10)"
      ],
      "execution_count": 6,
      "outputs": [
        {
          "output_type": "stream",
          "text": [
            "Epoch 1/150\n",
            "768/768 [==============================] - 0s 316us/step - loss: 2.9456 - acc: 0.6263\n",
            "Epoch 2/150\n",
            "768/768 [==============================] - 0s 166us/step - loss: 2.1683 - acc: 0.6341\n",
            "Epoch 3/150\n",
            "768/768 [==============================] - 0s 171us/step - loss: 1.9201 - acc: 0.6484\n",
            "Epoch 4/150\n",
            "768/768 [==============================] - 0s 151us/step - loss: 1.7737 - acc: 0.6523\n",
            "Epoch 5/150\n",
            "768/768 [==============================] - 0s 162us/step - loss: 1.6268 - acc: 0.6497\n",
            "Epoch 6/150\n",
            "768/768 [==============================] - 0s 174us/step - loss: 1.5711 - acc: 0.6497\n",
            "Epoch 7/150\n",
            "768/768 [==============================] - 0s 161us/step - loss: 1.4742 - acc: 0.6510\n",
            "Epoch 8/150\n",
            "768/768 [==============================] - 0s 165us/step - loss: 1.3810 - acc: 0.6693\n",
            "Epoch 9/150\n",
            "768/768 [==============================] - 0s 179us/step - loss: 1.3281 - acc: 0.6706\n",
            "Epoch 10/150\n",
            "768/768 [==============================] - 0s 165us/step - loss: 1.1873 - acc: 0.6836\n",
            "Epoch 11/150\n",
            "768/768 [==============================] - 0s 159us/step - loss: 1.1031 - acc: 0.6849\n",
            "Epoch 12/150\n",
            "768/768 [==============================] - 0s 158us/step - loss: 1.0288 - acc: 0.6927\n",
            "Epoch 13/150\n",
            "768/768 [==============================] - 0s 162us/step - loss: 0.9475 - acc: 0.6875\n",
            "Epoch 14/150\n",
            "768/768 [==============================] - 0s 162us/step - loss: 0.8856 - acc: 0.6771\n",
            "Epoch 15/150\n",
            "768/768 [==============================] - 0s 157us/step - loss: 0.8231 - acc: 0.6862\n",
            "Epoch 16/150\n",
            "768/768 [==============================] - 0s 135us/step - loss: 0.7760 - acc: 0.6758\n",
            "Epoch 17/150\n",
            "768/768 [==============================] - 0s 138us/step - loss: 0.7355 - acc: 0.6732\n",
            "Epoch 18/150\n",
            "768/768 [==============================] - 0s 136us/step - loss: 0.7061 - acc: 0.6966\n",
            "Epoch 19/150\n",
            "768/768 [==============================] - 0s 132us/step - loss: 0.6767 - acc: 0.6706\n",
            "Epoch 20/150\n",
            "768/768 [==============================] - 0s 149us/step - loss: 0.7129 - acc: 0.6549\n",
            "Epoch 21/150\n",
            "768/768 [==============================] - 0s 131us/step - loss: 0.6585 - acc: 0.6901\n",
            "Epoch 22/150\n",
            "768/768 [==============================] - 0s 133us/step - loss: 0.6488 - acc: 0.6979\n",
            "Epoch 23/150\n",
            "768/768 [==============================] - 0s 125us/step - loss: 0.6398 - acc: 0.6979\n"
          ],
          "name": "stdout"
        },
        {
          "output_type": "stream",
          "text": [
            "Epoch 24/150\n",
            "768/768 [==============================] - 0s 155us/step - loss: 0.6467 - acc: 0.7096\n",
            "Epoch 25/150\n",
            "768/768 [==============================] - 0s 151us/step - loss: 0.6385 - acc: 0.6966\n",
            "Epoch 26/150\n",
            "768/768 [==============================] - 0s 152us/step - loss: 0.6620 - acc: 0.6888\n",
            "Epoch 27/150\n",
            "768/768 [==============================] - 0s 156us/step - loss: 0.6387 - acc: 0.6979\n",
            "Epoch 28/150\n",
            "768/768 [==============================] - 0s 151us/step - loss: 0.6854 - acc: 0.6823\n",
            "Epoch 29/150\n",
            "768/768 [==============================] - 0s 135us/step - loss: 0.6376 - acc: 0.6836\n",
            "Epoch 30/150\n",
            "768/768 [==============================] - 0s 133us/step - loss: 0.6241 - acc: 0.6875\n",
            "Epoch 31/150\n",
            "768/768 [==============================] - 0s 147us/step - loss: 0.6263 - acc: 0.6966\n",
            "Epoch 32/150\n",
            "768/768 [==============================] - 0s 151us/step - loss: 0.6375 - acc: 0.7018\n",
            "Epoch 33/150\n",
            "768/768 [==============================] - 0s 151us/step - loss: 0.6359 - acc: 0.6953\n",
            "Epoch 34/150\n",
            "768/768 [==============================] - 0s 137us/step - loss: 0.6023 - acc: 0.7057\n",
            "Epoch 35/150\n",
            "768/768 [==============================] - 0s 141us/step - loss: 0.6097 - acc: 0.7083\n",
            "Epoch 36/150\n",
            "768/768 [==============================] - 0s 159us/step - loss: 0.6057 - acc: 0.7174\n",
            "Epoch 37/150\n",
            "768/768 [==============================] - 0s 135us/step - loss: 0.6049 - acc: 0.7135\n",
            "Epoch 38/150\n",
            "768/768 [==============================] - 0s 151us/step - loss: 0.6109 - acc: 0.7005\n",
            "Epoch 39/150\n",
            "768/768 [==============================] - 0s 143us/step - loss: 0.6194 - acc: 0.7109\n",
            "Epoch 40/150\n",
            "768/768 [==============================] - 0s 152us/step - loss: 0.6174 - acc: 0.7240\n",
            "Epoch 41/150\n",
            "768/768 [==============================] - 0s 154us/step - loss: 0.6252 - acc: 0.7096\n",
            "Epoch 42/150\n",
            "768/768 [==============================] - 0s 145us/step - loss: 0.6285 - acc: 0.6992\n",
            "Epoch 43/150\n",
            "768/768 [==============================] - 0s 151us/step - loss: 0.6205 - acc: 0.7031\n",
            "Epoch 44/150\n",
            "768/768 [==============================] - 0s 153us/step - loss: 0.6058 - acc: 0.7109\n",
            "Epoch 45/150\n",
            "768/768 [==============================] - 0s 136us/step - loss: 0.6305 - acc: 0.6979\n",
            "Epoch 46/150\n",
            "360/768 [=============>................] - ETA: 0s - loss: 0.6294 - acc: 0.7194"
          ],
          "name": "stdout"
        },
        {
          "output_type": "stream",
          "text": [
            "768/768 [==============================] - 0s 140us/step - loss: 0.6166 - acc: 0.7018\n",
            "Epoch 47/150\n",
            "768/768 [==============================] - 0s 140us/step - loss: 0.6380 - acc: 0.6914\n",
            "Epoch 48/150\n",
            "768/768 [==============================] - 0s 147us/step - loss: 0.5786 - acc: 0.7227\n",
            "Epoch 49/150\n",
            "768/768 [==============================] - 0s 133us/step - loss: 0.6137 - acc: 0.7148\n",
            "Epoch 50/150\n",
            "768/768 [==============================] - 0s 146us/step - loss: 0.6160 - acc: 0.6979\n",
            "Epoch 51/150\n",
            "768/768 [==============================] - 0s 147us/step - loss: 0.5935 - acc: 0.7187\n",
            "Epoch 52/150\n",
            "768/768 [==============================] - 0s 134us/step - loss: 0.5953 - acc: 0.7266\n",
            "Epoch 53/150\n",
            "768/768 [==============================] - 0s 158us/step - loss: 0.6131 - acc: 0.7201\n",
            "Epoch 54/150\n",
            "768/768 [==============================] - 0s 130us/step - loss: 0.6083 - acc: 0.6940\n",
            "Epoch 55/150\n",
            "768/768 [==============================] - 0s 135us/step - loss: 0.5981 - acc: 0.7083\n",
            "Epoch 56/150\n",
            "768/768 [==============================] - 0s 129us/step - loss: 0.6181 - acc: 0.7070\n",
            "Epoch 57/150\n",
            "768/768 [==============================] - 0s 135us/step - loss: 0.6081 - acc: 0.7044\n",
            "Epoch 58/150\n",
            "768/768 [==============================] - 0s 141us/step - loss: 0.5877 - acc: 0.7174\n",
            "Epoch 59/150\n",
            "768/768 [==============================] - 0s 148us/step - loss: 0.6218 - acc: 0.7135\n",
            "Epoch 60/150\n",
            "768/768 [==============================] - 0s 150us/step - loss: 0.5789 - acc: 0.7318\n",
            "Epoch 61/150\n",
            "768/768 [==============================] - 0s 150us/step - loss: 0.5954 - acc: 0.7083\n",
            "Epoch 62/150\n",
            "768/768 [==============================] - 0s 154us/step - loss: 0.5681 - acc: 0.7188\n",
            "Epoch 63/150\n",
            "768/768 [==============================] - 0s 139us/step - loss: 0.5852 - acc: 0.7344\n",
            "Epoch 64/150\n",
            "768/768 [==============================] - 0s 152us/step - loss: 0.5858 - acc: 0.7201\n",
            "Epoch 65/150\n",
            "768/768 [==============================] - 0s 153us/step - loss: 0.5829 - acc: 0.7292\n",
            "Epoch 66/150\n",
            "768/768 [==============================] - 0s 131us/step - loss: 0.5774 - acc: 0.7305\n",
            "Epoch 67/150\n",
            "768/768 [==============================] - 0s 149us/step - loss: 0.5727 - acc: 0.7161\n",
            "Epoch 68/150\n",
            "768/768 [==============================] - 0s 144us/step - loss: 0.5841 - acc: 0.7201\n"
          ],
          "name": "stdout"
        },
        {
          "output_type": "stream",
          "text": [
            "Epoch 69/150\n",
            "768/768 [==============================] - 0s 133us/step - loss: 0.5730 - acc: 0.7253\n",
            "Epoch 70/150\n",
            "768/768 [==============================] - 0s 148us/step - loss: 0.5633 - acc: 0.7266\n",
            "Epoch 71/150\n",
            "768/768 [==============================] - 0s 158us/step - loss: 0.6082 - acc: 0.7214\n",
            "Epoch 72/150\n",
            "768/768 [==============================] - 0s 132us/step - loss: 0.5753 - acc: 0.7083\n",
            "Epoch 73/150\n",
            "768/768 [==============================] - 0s 127us/step - loss: 0.6068 - acc: 0.7201\n",
            "Epoch 74/150\n",
            "768/768 [==============================] - 0s 149us/step - loss: 0.6167 - acc: 0.7044\n",
            "Epoch 75/150\n",
            "768/768 [==============================] - 0s 134us/step - loss: 0.5721 - acc: 0.7253\n",
            "Epoch 76/150\n",
            "768/768 [==============================] - 0s 131us/step - loss: 0.5655 - acc: 0.7305\n",
            "Epoch 77/150\n",
            "768/768 [==============================] - 0s 141us/step - loss: 0.5730 - acc: 0.7357\n",
            "Epoch 78/150\n",
            "768/768 [==============================] - 0s 147us/step - loss: 0.5907 - acc: 0.6966\n",
            "Epoch 79/150\n",
            "768/768 [==============================] - 0s 138us/step - loss: 0.5760 - acc: 0.7201\n",
            "Epoch 80/150\n",
            "768/768 [==============================] - 0s 148us/step - loss: 0.5766 - acc: 0.7227\n",
            "Epoch 81/150\n",
            "768/768 [==============================] - 0s 150us/step - loss: 0.5867 - acc: 0.7214\n",
            "Epoch 82/150\n",
            "768/768 [==============================] - 0s 148us/step - loss: 0.5747 - acc: 0.7227\n",
            "Epoch 83/150\n",
            "768/768 [==============================] - 0s 142us/step - loss: 0.5670 - acc: 0.7253\n",
            "Epoch 84/150\n",
            "768/768 [==============================] - 0s 140us/step - loss: 0.5737 - acc: 0.7227\n",
            "Epoch 85/150\n",
            "768/768 [==============================] - 0s 147us/step - loss: 0.5524 - acc: 0.7318\n",
            "Epoch 86/150\n",
            "768/768 [==============================] - 0s 137us/step - loss: 0.5671 - acc: 0.7096\n",
            "Epoch 87/150\n",
            "768/768 [==============================] - 0s 134us/step - loss: 0.5831 - acc: 0.7161\n",
            "Epoch 88/150\n",
            "768/768 [==============================] - 0s 131us/step - loss: 0.5820 - acc: 0.7122\n",
            "Epoch 89/150\n",
            "768/768 [==============================] - 0s 157us/step - loss: 0.5699 - acc: 0.7318\n",
            "Epoch 90/150\n",
            "768/768 [==============================] - 0s 150us/step - loss: 0.5788 - acc: 0.7148\n",
            "Epoch 91/150\n",
            "768/768 [==============================] - 0s 154us/step - loss: 0.5584 - acc: 0.7253\n"
          ],
          "name": "stdout"
        },
        {
          "output_type": "stream",
          "text": [
            "Epoch 92/150\n",
            "768/768 [==============================] - 0s 155us/step - loss: 0.5618 - acc: 0.7383\n",
            "Epoch 93/150\n",
            "768/768 [==============================] - 0s 134us/step - loss: 0.5766 - acc: 0.7096\n",
            "Epoch 94/150\n",
            "768/768 [==============================] - 0s 154us/step - loss: 0.5682 - acc: 0.7279\n",
            "Epoch 95/150\n",
            "768/768 [==============================] - 0s 140us/step - loss: 0.5542 - acc: 0.7305\n",
            "Epoch 96/150\n",
            "768/768 [==============================] - 0s 154us/step - loss: 0.5684 - acc: 0.7370\n",
            "Epoch 97/150\n",
            "768/768 [==============================] - 0s 153us/step - loss: 0.5801 - acc: 0.7305\n",
            "Epoch 98/150\n",
            "768/768 [==============================] - 0s 161us/step - loss: 0.5529 - acc: 0.7435\n",
            "Epoch 99/150\n",
            "768/768 [==============================] - 0s 147us/step - loss: 0.5604 - acc: 0.7318\n",
            "Epoch 100/150\n",
            "768/768 [==============================] - 0s 125us/step - loss: 0.5369 - acc: 0.7253\n",
            "Epoch 101/150\n",
            "768/768 [==============================] - 0s 150us/step - loss: 0.5561 - acc: 0.7214\n",
            "Epoch 102/150\n",
            "768/768 [==============================] - 0s 144us/step - loss: 0.5613 - acc: 0.7292\n",
            "Epoch 103/150\n",
            "768/768 [==============================] - 0s 152us/step - loss: 0.5516 - acc: 0.7279\n",
            "Epoch 104/150\n",
            "768/768 [==============================] - 0s 161us/step - loss: 0.5441 - acc: 0.7487\n",
            "Epoch 105/150\n",
            "768/768 [==============================] - 0s 137us/step - loss: 0.5524 - acc: 0.7331\n",
            "Epoch 106/150\n",
            "768/768 [==============================] - 0s 146us/step - loss: 0.5525 - acc: 0.7357\n",
            "Epoch 107/150\n",
            "768/768 [==============================] - 0s 151us/step - loss: 0.5930 - acc: 0.7292\n",
            "Epoch 108/150\n",
            "768/768 [==============================] - 0s 151us/step - loss: 0.5600 - acc: 0.7214\n",
            "Epoch 109/150\n",
            "768/768 [==============================] - 0s 158us/step - loss: 0.5616 - acc: 0.7292\n",
            "Epoch 110/150\n",
            "768/768 [==============================] - 0s 141us/step - loss: 0.5506 - acc: 0.7174\n",
            "Epoch 111/150\n",
            "768/768 [==============================] - 0s 150us/step - loss: 0.5391 - acc: 0.7422\n",
            "Epoch 112/150\n",
            "768/768 [==============================] - 0s 134us/step - loss: 0.5359 - acc: 0.7448\n",
            "Epoch 113/150\n",
            "768/768 [==============================] - 0s 144us/step - loss: 0.5553 - acc: 0.7552\n",
            "Epoch 114/150\n",
            " 10/768 [..............................] - ETA: 0s - loss: 0.8375 - acc: 0.6000"
          ],
          "name": "stdout"
        },
        {
          "output_type": "stream",
          "text": [
            "768/768 [==============================] - 0s 158us/step - loss: 0.5511 - acc: 0.7409\n",
            "Epoch 115/150\n",
            "768/768 [==============================] - 0s 148us/step - loss: 0.5785 - acc: 0.7240\n",
            "Epoch 116/150\n",
            "768/768 [==============================] - 0s 145us/step - loss: 0.5567 - acc: 0.7422\n",
            "Epoch 117/150\n",
            "768/768 [==============================] - 0s 150us/step - loss: 0.5751 - acc: 0.7070\n",
            "Epoch 118/150\n",
            "768/768 [==============================] - 0s 148us/step - loss: 0.5374 - acc: 0.7487\n",
            "Epoch 119/150\n",
            "768/768 [==============================] - 0s 148us/step - loss: 0.5471 - acc: 0.7370\n",
            "Epoch 120/150\n",
            "768/768 [==============================] - 0s 143us/step - loss: 0.5723 - acc: 0.7227\n",
            "Epoch 121/150\n",
            "768/768 [==============================] - 0s 133us/step - loss: 0.5757 - acc: 0.7188\n",
            "Epoch 122/150\n",
            "768/768 [==============================] - 0s 138us/step - loss: 0.5811 - acc: 0.7201\n",
            "Epoch 123/150\n",
            "768/768 [==============================] - 0s 135us/step - loss: 0.5402 - acc: 0.7266\n",
            "Epoch 124/150\n",
            "768/768 [==============================] - 0s 137us/step - loss: 0.5433 - acc: 0.7448\n",
            "Epoch 125/150\n",
            "768/768 [==============================] - 0s 149us/step - loss: 0.5591 - acc: 0.7396\n",
            "Epoch 126/150\n",
            "768/768 [==============================] - 0s 145us/step - loss: 0.5413 - acc: 0.7409\n",
            "Epoch 127/150\n",
            "768/768 [==============================] - 0s 153us/step - loss: 0.5507 - acc: 0.7279\n",
            "Epoch 128/150\n",
            "768/768 [==============================] - 0s 149us/step - loss: 0.5543 - acc: 0.7331\n",
            "Epoch 129/150\n",
            "768/768 [==============================] - 0s 149us/step - loss: 0.5521 - acc: 0.7370\n",
            "Epoch 130/150\n",
            "768/768 [==============================] - 0s 143us/step - loss: 0.5625 - acc: 0.7279\n",
            "Epoch 131/150\n",
            "768/768 [==============================] - 0s 160us/step - loss: 0.5421 - acc: 0.7370\n",
            "Epoch 132/150\n",
            "768/768 [==============================] - 0s 146us/step - loss: 0.5687 - acc: 0.7331\n",
            "Epoch 133/150\n",
            "768/768 [==============================] - 0s 134us/step - loss: 0.5375 - acc: 0.7461\n",
            "Epoch 134/150\n",
            "768/768 [==============================] - 0s 139us/step - loss: 0.5317 - acc: 0.7461\n",
            "Epoch 135/150\n",
            "768/768 [==============================] - 0s 129us/step - loss: 0.5566 - acc: 0.7292\n",
            "Epoch 136/150\n",
            "768/768 [==============================] - 0s 140us/step - loss: 0.5398 - acc: 0.7500\n",
            "Epoch 137/150\n",
            " 10/768 [..............................] - ETA: 0s - loss: 0.6453 - acc: 0.7000"
          ],
          "name": "stdout"
        },
        {
          "output_type": "stream",
          "text": [
            "768/768 [==============================] - 0s 135us/step - loss: 0.5421 - acc: 0.7461\n",
            "Epoch 138/150\n",
            "768/768 [==============================] - 0s 143us/step - loss: 0.5588 - acc: 0.7253\n",
            "Epoch 139/150\n",
            "768/768 [==============================] - 0s 148us/step - loss: 0.5350 - acc: 0.7422\n",
            "Epoch 140/150\n",
            "768/768 [==============================] - 0s 130us/step - loss: 0.5697 - acc: 0.7292\n",
            "Epoch 141/150\n",
            "768/768 [==============================] - 0s 165us/step - loss: 0.5601 - acc: 0.7331\n",
            "Epoch 142/150\n",
            "768/768 [==============================] - 0s 136us/step - loss: 0.5252 - acc: 0.7643\n",
            "Epoch 143/150\n",
            "768/768 [==============================] - 0s 155us/step - loss: 0.6135 - acc: 0.7057\n",
            "Epoch 144/150\n",
            "768/768 [==============================] - 0s 132us/step - loss: 0.5301 - acc: 0.7539\n",
            "Epoch 145/150\n",
            "768/768 [==============================] - 0s 136us/step - loss: 0.5382 - acc: 0.7487\n",
            "Epoch 146/150\n",
            "768/768 [==============================] - 0s 147us/step - loss: 0.5729 - acc: 0.7135\n",
            "Epoch 147/150\n",
            "768/768 [==============================] - 0s 133us/step - loss: 0.5540 - acc: 0.7174\n",
            "Epoch 148/150\n",
            "768/768 [==============================] - 0s 152us/step - loss: 0.5301 - acc: 0.7604\n",
            "Epoch 149/150\n",
            "768/768 [==============================] - 0s 154us/step - loss: 0.5630 - acc: 0.7344\n",
            "Epoch 150/150\n",
            "768/768 [==============================] - 0s 152us/step - loss: 0.5523 - acc: 0.7279\n"
          ],
          "name": "stdout"
        },
        {
          "output_type": "execute_result",
          "data": {
            "text/plain": [
              "<keras.callbacks.History at 0x7f538c064fd0>"
            ]
          },
          "metadata": {
            "tags": []
          },
          "execution_count": 6
        }
      ]
    },
    {
      "metadata": {
        "id": "Ld6dEra3gJoB",
        "colab_type": "code",
        "colab": {
          "base_uri": "https://localhost:8080/",
          "height": 68
        },
        "outputId": "18c94a1f-de69-4009-d360-75f0d245fb15"
      },
      "cell_type": "code",
      "source": [
        "# evaluate the model\n",
        "scores = model.evaluate(x, y)\n",
        "print(\"\\n%s: %.2f%%\" % (model.metrics_names[1], scores[1]*100))"
      ],
      "execution_count": 8,
      "outputs": [
        {
          "output_type": "stream",
          "text": [
            "768/768 [==============================] - 0s 64us/step\n",
            "\n",
            "acc: 74.35%\n"
          ],
          "name": "stdout"
        }
      ]
    },
    {
      "metadata": {
        "id": "JJpFEocVkrs-",
        "colab_type": "text"
      },
      "cell_type": "markdown",
      "source": [
        "ref: https://machinelearningmastery.com/tutorial-first-neural-network-python-keras/ "
      ]
    }
  ]
}