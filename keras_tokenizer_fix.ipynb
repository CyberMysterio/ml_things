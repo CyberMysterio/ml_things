{
  "nbformat": 4,
  "nbformat_minor": 0,
  "metadata": {
    "colab": {
      "name": "keras_tokenizer_fix.ipynb",
      "version": "0.3.2",
      "provenance": [],
      "collapsed_sections": []
    }
  },
  "cells": [
    {
      "cell_type": "markdown",
      "metadata": {
        "id": "view-in-github",
        "colab_type": "text"
      },
      "source": [
        "[View in Colaboratory](https://colab.research.google.com/github/gmihaila/deep_learning_toolbox/blob/master/keras_tokenizer_fix.ipynb)"
      ]
    },
    {
      "metadata": {
        "id": "NRdntd0DKAqB",
        "colab_type": "text"
      },
      "cell_type": "markdown",
      "source": [
        "## Probably my most usefull tool: How to fix the keras tokenizer to speed things up\n",
        "\n",
        "by GeorgeM"
      ]
    },
    {
      "metadata": {
        "id": "GSmIeoaP7mEE",
        "colab_type": "code",
        "colab": {
          "base_uri": "https://localhost:8080/",
          "height": 212
        },
        "outputId": "74d87a5e-5e93-4e34-c5d4-cf2601bf782d"
      },
      "cell_type": "code",
      "source": [
        "n_words = 3\n",
        "\n",
        "\n",
        "tk = Tokenizer(num_words=(n_words+1), filters=string.punctuation, lower=True, split=' ', char_level=False, oov_token='<unk>')\n",
        "texts = [\"my name is far faraway asdasd\", \"my name is\",\"your name is\"]\n",
        "\n",
        "tk.fit_on_texts([\"my name is far faraway \", \"my name is\",\"your name is\"])\n",
        "tk.fit_on_texts([\"asdasd my name is far faraway asdasd\"])\n",
        "\n",
        "## NOTE: You can fit chunks of data, it will work same way. When having big data don't need to load all files\n",
        "\n",
        "print('Original text: %s\\n'%texts)\n",
        "print('Only use top %s words\\n\\n'%n_words)\n",
        "\n",
        "print(tk.word_index)\n",
        "print('%s  <-WRONG!'%tk.texts_to_sequences(texts))\n",
        "\n",
        "print('\\n')\n",
        "\n",
        "## **Key Step**\n",
        "tk.word_index = {e:i for e,i in tk.word_index.items() if i <= n_words} # <= because tokenizer is 1 indexed\n",
        "tk.word_index[tk.oov_token] = n_words + 1\n",
        "\n",
        "\n",
        "print(tk.word_index)\n",
        "print('%s  <-RIGHT!'%tk.texts_to_sequences(texts))\n"
      ],
      "execution_count": 18,
      "outputs": [
        {
          "output_type": "stream",
          "text": [
            "Original text: ['my name is far faraway asdasd', 'my name is', 'your name is']\n",
            "\n",
            "Only use top 3 words\n",
            "\n",
            "\n",
            "{'name': 1, 'far': 4, 'is': 2, 'asdasd': 6, 'faraway': 5, 'my': 3, 'your': 7, '<unk>': 8}\n",
            "[[3, 1, 2], [3, 1, 2], [1, 2]]  <-WRONG!\n",
            "\n",
            "\n",
            "{'is': 2, 'my': 3, 'name': 1, '<unk>': 4}\n",
            "[[3, 1, 2, 4, 4, 4], [3, 1, 2], [4, 1, 2]]  <-RIGHT!\n"
          ],
          "name": "stdout"
        }
      ]
    },
    {
      "metadata": {
        "id": "bchfX1IMME5d",
        "colab_type": "text"
      },
      "cell_type": "markdown",
      "source": [
        "Thank you se4u(https://github.com/se4u)\n",
        "Also: https://github.com/keras-team/keras/issues/8092"
      ]
    }
  ]
}